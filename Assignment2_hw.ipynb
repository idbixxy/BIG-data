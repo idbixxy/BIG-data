{
 "cells": [
  {
   "cell_type": "markdown",
   "metadata": {},
   "source": [
    "\n",
    "    \n",
    "<img src=\"https://astanait.edu.kz/wp-content/uploads/2020/05/aitu-logo-3.png\" alt=\"alt text\" width=\"150\" height=\"200\" class=\"blog-image\">\n",
    "  \n",
    "\n",
    "<h1 style=\"text-align:center;\">Big Data in Law Enforcement (practice) </h1>\n",
    "\n",
    "<h1 style=\"text-align:center;\">Pandas, Numpy </h1>\n",
    "\n",
    "\n"
   ]
  },
  {
   "cell_type": "markdown",
   "metadata": {},
   "source": [
    "### Part 1: Pandas\n",
    "\n",
    "Pandas, a widely used library in data analysis that provides pre-written code and functions to help tackle various data-related tasks. \n",
    "It offers a rich set of tools for working with structured data, making it indispensable for data scientists, analysts, and engineers across various industries.\n",
    "\n",
    "Here are some key aspects of Pandas:\n",
    "\n",
    "**Data Structures:** Pandas provides two primary data structures: DataFrame and Series. A DataFrame is a flexible two-dimensional table with labeled rows and columns, while a Series is a labeled one-dimensional array, like a single column or row of data.\n",
    "\n",
    "**Data Handling:** Pandas manage data from diverse sources. It simplifies reading data from CSV files, Excel spreadsheets, SQL databases, and more. It also supports exporting data in these formats, enabling seamless data interchange.\n",
    "\n",
    "**Data Integration:** Pandas enables you to combine data from different sources efficiently. With functions like merge and join, like in SQL operations, you can create comprehensive datasets by merging multiple DataFrames.\n",
    "\n",
    "**Efficient Indexing:** Pandas offers efficient indexing and selection mechanisms. You can quickly access specific rows and columns of your data, which is especially helpful when dealing with large datasets.\n",
    "\n",
    "**Customization:** Pandas allows you to create custom data structures and manipulate data to suit your specific requirements. This extensibility is invaluable when you need to adapt Pandas to unique data processing tasks.\n",
    "\n",
    "In summary, Pandas is a go-to tool for managing and analyzing data in various formats, making it an essential asset for anyone involved in data-related work.\n"
   ]
  },
  {
   "cell_type": "code",
   "execution_count": null,
   "metadata": {
    "tags": []
   },
   "outputs": [],
   "source": [
    "#install Pandas\n",
    "\n",
    "import pandas as pd\n"
   ]
  },
  {
   "cell_type": "markdown",
   "metadata": {},
   "source": [
    "After the import command, we now have access to a large number of pre-built classes and functions. This assumes the library is installed;"
   ]
  },
  {
   "cell_type": "markdown",
   "metadata": {},
   "source": [
    "##### Let's create a DataFrame out of a dictionary\n"
   ]
  },
  {
   "cell_type": "code",
   "execution_count": 27,
   "metadata": {
    "tags": []
   },
   "outputs": [
    {
     "name": "stdout",
     "output_type": "stream",
     "text": [
      "   StudentID     Name  Age Grade    Country            Course\n",
      "0          1    Alice   20     A        USA              Math\n",
      "1          2      Bob   22     B     Canada           Physics\n",
      "2          3  Charlie   21     C         UK           History\n",
      "3          4    David   23     B  Australia         Chemistry\n",
      "4          5      Eva   22     A    Germany  Computer Science\n"
     ]
    }
   ],
   "source": [
    "import pandas as pd\n",
    "#Define a dictionary 'students'\n",
    "students_data = {\n",
    "    'StudentID': [1, 2, 3, 4, 5],\n",
    "    'Name': ['Alice', 'Bob', 'Charlie', 'David', 'Eva'],\n",
    "    'Age': [20, 22, 21, 23, 22],\n",
    "    'Grade': ['A', 'B', 'C', 'B', 'A'],\n",
    "    'Country': ['USA', 'Canada', 'UK', 'Australia', 'Germany'],\n",
    "    'Course': ['Math', 'Physics', 'History', 'Chemistry', 'Computer Science']\n",
    "\n",
    "}\n",
    "#casting the dictionary to a DataFrame\n",
    "students_df = pd.DataFrame(students_data)\n",
    "#display the result df\n",
    "print(students_df)\n"
   ]
  },
  {
   "cell_type": "markdown",
   "metadata": {},
   "source": [
    "##### Column Selection\n",
    "\n",
    "In order to select column you have to use two brackets, to view the column as a series, you can use just one bracket:"
   ]
  },
  {
   "cell_type": "code",
   "execution_count": 21,
   "metadata": {
    "tags": []
   },
   "outputs": [
    {
     "name": "stdout",
     "output_type": "stream",
     "text": [
      "0      Alice\n",
      "1        Bob\n",
      "2    Charlie\n",
      "3      David\n",
      "4        Eva\n",
      "Name: Name, dtype: object\n"
     ]
    }
   ],
   "source": [
    "#Retrieving the \"Name\" column and assigning it to a variable name\n",
    "# Assuming 'students_df' is the DataFrame from the previous example\n",
    "name_column = students_df['Name']\n",
    "\n",
    "# Display the result\n",
    "print(name_column)\n"
   ]
  },
  {
   "cell_type": "markdown",
   "metadata": {},
   "source": [
    "Using **type()** function you can check the type of the variable.\n"
   ]
  },
  {
   "cell_type": "code",
   "execution_count": 4,
   "metadata": {
    "tags": []
   },
   "outputs": [
    {
     "name": "stdout",
     "output_type": "stream",
     "text": [
      "<class 'pandas.core.series.Series'>\n"
     ]
    }
   ],
   "source": [
    "#check the type of Name\n",
    "name_column_type = type(students_df['Name'])\n",
    "\n",
    "# Display the result\n",
    "print(name_column_type)"
   ]
  },
  {
   "cell_type": "markdown",
   "metadata": {},
   "source": [
    "As shown in the output the type of the variable is a DataFrame object.\n"
   ]
  },
  {
   "cell_type": "markdown",
   "metadata": {},
   "source": [
    "##### Accessing to multiple columns\n",
    "\n",
    "We can retrieve the data for <code>Id</code>, <code>Group</code> and <code>Grade</code> columns\n"
   ]
  },
  {
   "cell_type": "code",
   "execution_count": 5,
   "metadata": {
    "tags": []
   },
   "outputs": [
    {
     "name": "stdout",
     "output_type": "stream",
     "text": [
      "   StudentID  Age Grade\n",
      "0          1   20     A\n",
      "1          2   22     B\n",
      "2          3   21     C\n",
      "3          4   23     B\n",
      "4          5   22     A\n"
     ]
    }
   ],
   "source": [
    "#Retrieving data for the ID, Group and Grade columns and assigning it to a new variable x\n",
    " \n",
    "columns_to_retrieve = ['StudentID', 'Age', 'Grade']\n",
    "\n",
    "x = students_df[columns_to_retrieve]\n",
    "\n",
    "print(x)\n"
   ]
  },
  {
   "cell_type": "markdown",
   "metadata": {},
   "source": [
    "### Practice Exercise 1: "
   ]
  },
  {
   "attachments": {
    "953c078c-7bfa-4de9-b39f-dd1a128f37f9.png": {
     "image/png": "[encoded data removed]"
    }
   },
   "cell_type": "markdown",
   "metadata": {},
   "source": [
    "1. Create the following dataframe using dictionary, name the dataframe ***students***: (5 pt.)\n",
    "\n",
    "![Снимок экрана 2023-10-10 215914.png](attachment:953c078c-7bfa-4de9-b39f-dd1a128f37f9.png)"
   ]
  },
  {
   "cell_type": "code",
   "execution_count": 30,
   "metadata": {},
   "outputs": [
    {
     "name": "stdout",
     "output_type": "stream",
     "text": [
      "    Name  Age                  Course Marks    Country\n",
      "0   Rick   20                Big Data    95        USA\n",
      "1  Jonny   19        Data Engineering    92     Canada\n",
      "2  Danny   21  Artifical Intellegence    79         UK\n",
      "3   Rose   20         Web Development    75  Australia\n"
     ]
    }
   ],
   "source": [
    "#write your code below\n",
    "import pandas as pd\n",
    "\n",
    "# Create the students DataFrame using a dictionary\n",
    "students_data = {\n",
    "    'Name': ['Rick', 'Jonny', 'Danny', 'Rose'],\n",
    "    'Age': [20, 19, 21, 20],\n",
    "    'Course':['Big Data', 'Data Engineering', 'Artifical Intellegence', 'Web Development'],\n",
    "    'Marks': ['95', '92', '79', '75'],\n",
    "    'Country': ['USA', 'Canada', 'UK', 'Australia'],\n",
    " }\n",
    "\n",
    "students = pd.DataFrame(students_data)\n",
    "\n",
    "# Display the resulting DataFrame\n",
    "print(students)\n"
   ]
  },
  {
   "cell_type": "markdown",
   "metadata": {},
   "source": [
    "2. Retrieve the Marks column and assign it to a variable grade (5pt.)\n"
   ]
  },
  {
   "cell_type": "code",
   "execution_count": 13,
   "metadata": {},
   "outputs": [
    {
     "name": "stdout",
     "output_type": "stream",
     "text": [
      "0    95\n",
      "1    92\n",
      "2    79\n",
      "3    75\n",
      "Name: Marks, dtype: object\n"
     ]
    }
   ],
   "source": [
    "#write your code below\n",
    "grade = students['Marks']\n",
    "\n",
    "# Display the result\n",
    "print(grade)"
   ]
  },
  {
   "cell_type": "markdown",
   "metadata": {},
   "source": [
    "3. Retrieve the Country and Course columns and assign it to a variable info (5 pt.)\n"
   ]
  },
  {
   "cell_type": "code",
   "execution_count": 31,
   "metadata": {},
   "outputs": [
    {
     "name": "stdout",
     "output_type": "stream",
     "text": [
      "     Country                  Course\n",
      "0        USA                Big Data\n",
      "1     Canada        Data Engineering\n",
      "2         UK  Artifical Intellegence\n",
      "3  Australia         Web Development\n"
     ]
    }
   ],
   "source": [
    "#write your code below\n",
    "info_columns = ['Country', 'Course']\n",
    "info = students[info_columns]\n",
    "print(info)\n"
   ]
  },
  {
   "cell_type": "markdown",
   "metadata": {},
   "source": [
    "*** "
   ]
  },
  {
   "cell_type": "markdown",
   "metadata": {},
   "source": [
    "##### Using ***loc()*** and ***iloc()*** functions\n",
    "\n",
    "In this exercise, we'll explore the loc() and iloc() functions for data selection.\n",
    "\n",
    "**loc()** Function:\n",
    "The loc() function is a label-based data selection method, meaning that you specify the name of the row or column you want to select. It includes the last element of the range passed in it.\n",
    "\n",
    "Simple syntax:\n",
    "\n",
    " * loc[row_label, column_label]\n",
    "\n",
    "**iloc()** Function:\n",
    "The iloc() function, on the other hand, is index-based for selecting data. You provide integer indices to select specific rows or columns. Importantly, it does not include the last element of the range passed.\n",
    "\n",
    "Simple syntax:\n",
    "   \n",
    " * iloc[row_index, column_index]\n",
    "\n"
   ]
  },
  {
   "cell_type": "code",
   "execution_count": 34,
   "metadata": {
    "tags": []
   },
   "outputs": [
    {
     "name": "stdout",
     "output_type": "stream",
     "text": [
      "0    95\n",
      "1    92\n",
      "2    79\n",
      "3    75\n",
      "Name: Marks, dtype: object\n"
     ]
    }
   ],
   "source": [
    "# You can access the value in column using the name\n",
    "\n",
    "grades = students['Marks']\n",
    "\n",
    "\n",
    "print(grades)\n"
   ]
  },
  {
   "cell_type": "code",
   "execution_count": 39,
   "metadata": {
    "tags": []
   },
   "outputs": [
    {
     "name": "stdout",
     "output_type": "stream",
     "text": [
      "Value using loc(): Rick\n",
      "Value using iloc(): Rick\n"
     ]
    }
   ],
   "source": [
    "# To access the value on the first row and the first column you can use the following code\n",
    "\n",
    "value_loc = students.loc[0, 'Name']\n",
    "\n",
    "value_iloc = students.iloc[0, 0]\n",
    "\n",
    "\n",
    "print(\"Value using loc():\", value_loc)\n",
    "print(\"Value using iloc():\", value_iloc)\n"
   ]
  },
  {
   "cell_type": "code",
   "execution_count": 40,
   "metadata": {
    "tags": []
   },
   "outputs": [
    {
     "name": "stdout",
     "output_type": "stream",
     "text": [
      "Value using loc(): Rick\n",
      "Value using iloc(): Big Data\n"
     ]
    }
   ],
   "source": [
    "# To access the value on the first row and the third column\n",
    "value_loc = students.loc[0, 'Name']\n",
    "\n",
    " \n",
    "value_iloc = students.iloc[0, 2]\n",
    "\n",
    "\n",
    "print(\"Value using loc():\", value_loc)\n",
    "print(\"Value using iloc():\", value_iloc)\n",
    "\n"
   ]
  },
  {
   "cell_type": "markdown",
   "metadata": {},
   "source": [
    "##### Slicing\n",
    "\n",
    "In pandas, you can perform data selection by slicing using the **[ ]** operator. Slicing allows you to choose a specific set of rows and/or columns from a DataFrame.\n",
    "\n",
    "To slice out a set of rows, you can use the following syntax: ***data[start:stop]***. Here, **\"start\"** represents the index from which to begin selecting, and **\"stop\"** represents the index one step beyond the row you wish to include in the selection. Slicing can be done using either index positions or column labels.\n",
    "\n",
    "It's important to note that when slicing with pandas, the \"start\" bound is inclusive in the output. For example, if you want to select rows 0, 1, and 2, your code would appear as follows: **df.iloc[0:3]**. This signifies that you are instructing Python to start at index 0 and include rows 0, 1, and 2 up to, but not including, index 3.\n",
    "\n",
    "Additionally, it's crucial to ensure that the labels you use for slicing are present in the DataFrame; otherwise, you will encounter a KeyError.\n",
    "\n",
    "It's worth highlighting that indexing by labels, which is done using the loc() function, differs from indexing by integers, which is accomplished using the iloc() function. When using loc(), both the start and stop bounds are inclusive. When using loc(), you can use integers, but these integers refer to the index labels rather than the position.\n",
    "\n",
    "For instance, selecting rows 1:4 using **loc()** will yield a different result compared to using **iloc()** to select rows 1:4. The former includes the rows with index labels 1, 2, 3, and 4, while the latter includes only rows 1, 2, and 3."
   ]
  },
  {
   "cell_type": "code",
   "execution_count": 42,
   "metadata": {
    "tags": []
   },
   "outputs": [
    {
     "name": "stdout",
     "output_type": "stream",
     "text": [
      "Using iloc:\n",
      "    Name  Age                  Course Marks    Country\n",
      "1  Jonny   19        Data Engineering    92     Canada\n",
      "2  Danny   21  Artifical Intellegence    79         UK\n",
      "3   Rose   20         Web Development    75  Australia\n",
      "\n",
      "Using loc:\n",
      "    Name  Age                  Course Marks    Country\n",
      "1  Jonny   19        Data Engineering    92     Canada\n",
      "2  Danny   21  Artifical Intellegence    79         UK\n",
      "3   Rose   20         Web Development    75  Australia\n"
     ]
    }
   ],
   "source": [
    "# let us do the slicing using old dataframe df\n",
    "import pandas as pd\n",
    "\n",
    "students_datadata = {\n",
    "    'Name': ['Rick', 'Jonny', 'Danny', 'Rose'],\n",
    "    'Age': [20, 19, 21, 20],\n",
    "    'Course':['Big Data', 'Data Engineering', 'Artifical Intellegence', 'Web Development'],\n",
    "    'Marks': ['95', '92', '79', '75'],\n",
    "    'Country': ['USA', 'Canada', 'UK', 'Australia'],\n",
    " }\n",
    "\n",
    "df = pd.DataFrame(students_data)\n",
    "\n",
    " \n",
    "iloc_slice_result = df.iloc[1:4]  \n",
    "loc_slice_result = df.loc[1:4]    \n",
    "\n",
    "# Display the results\n",
    "print(\"Using iloc:\")\n",
    "print(iloc_slice_result)\n",
    "print(\"\\nUsing loc:\")\n",
    "print(loc_slice_result)\n",
    "\n"
   ]
  },
  {
   "cell_type": "code",
   "execution_count": 43,
   "metadata": {
    "tags": []
   },
   "outputs": [
    {
     "name": "stdout",
     "output_type": "stream",
     "text": [
      "Using loc:\n",
      "    Name  Age                   Course Marks Country\n",
      "1  Jonny   19         Data Engineering    92  Canada\n",
      "2  Danny   21  Artificial Intelligence    79      UK\n"
     ]
    }
   ],
   "source": [
    "#let us do the slicing using loc() function on old dataframe df where index column is having labels as 0,1,2\n",
    "import pandas as pd\n",
    "\n",
    "students_data = {\n",
    "    'Name': ['Rick', 'Jonny', 'Danny', 'Rose'],\n",
    "    'Age': [20, 19, 21, 20],\n",
    "    'Course': ['Big Data', 'Data Engineering', 'Artificial Intelligence', 'Web Development'],\n",
    "    'Marks': ['95', '92', '79', '75'],\n",
    "    'Country': ['USA', 'Canada', 'UK', 'Australia'],\n",
    "}\n",
    "\n",
    "df = pd.DataFrame(students_data)\n",
    " \n",
    "loc_slice_result = df.loc[1:2]  \n",
    "\n",
    " \n",
    "print(\"Using loc:\")\n",
    "print(loc_slice_result)\n"
   ]
  },
  {
   "cell_type": "markdown",
   "metadata": {},
   "source": [
    "### Practice Exercise 2: \n"
   ]
  },
  {
   "cell_type": "markdown",
   "metadata": {},
   "source": [
    " 1. Use the ***loc()*** function,to get the Age of Jane in created by you in previous exercise dataframe called ***students***. (5pt.)\n"
   ]
  },
  {
   "cell_type": "code",
   "execution_count": 44,
   "metadata": {},
   "outputs": [
    {
     "name": "stdout",
     "output_type": "stream",
     "text": [
      "Age of Jane (Jonny): 19\n"
     ]
    }
   ],
   "source": [
    "#write your code below\n",
    "import pandas as pd\n",
    "\n",
    "students_data = {\n",
    "    'Name': ['Rick', 'Jonny', 'Danny', 'Rose'],\n",
    "    'Age': [20, 19, 21, 20],\n",
    "    'Course': ['Big Data', 'Data Engineering', 'Artificial Intelligence', 'Web Development'],\n",
    "    'Marks': ['95', '92', '79', '75'],\n",
    "    'Country': ['USA', 'Canada', 'UK', 'Australia'],\n",
    "}\n",
    "\n",
    "students = pd.DataFrame(students_data)\n",
    "\n",
    "# Using loc to get the Age of Jane\n",
    "jane_age = students.loc[students['Name'] == 'Jonny', 'Age'].values[0]\n",
    "\n",
    "# Display the result\n",
    "print(\"Age of Jane (Jonny):\", jane_age)\n"
   ]
  },
  {
   "cell_type": "markdown",
   "metadata": {},
   "source": [
    "2. Use the ***iloc()*** function to get the Course of Rick in created by you in previous exercise dataframe called ***students***. (5pt.)\n"
   ]
  },
  {
   "cell_type": "code",
   "execution_count": 45,
   "metadata": {},
   "outputs": [
    {
     "name": "stdout",
     "output_type": "stream",
     "text": [
      "Course of Rick: Big Data\n"
     ]
    }
   ],
   "source": [
    "#write your code below\n",
    "import pandas as pd\n",
    "\n",
    "students_data = {\n",
    "    'Name': ['Rick', 'Jonny', 'Danny', 'Rose'],\n",
    "    'Age': [20, 19, 21, 20],\n",
    "    'Course': ['Big Data', 'Data Engineering', 'Artificial Intelligence', 'Web Development'],\n",
    "    'Marks': ['95', '92', '79', '75'],\n",
    "    'Country': ['USA', 'Canada', 'UK', 'Australia'],\n",
    "}\n",
    "\n",
    "students = pd.DataFrame(students_data)\n",
    "\n",
    "# Using iloc to get the Course of Rick\n",
    "rick_course = students.iloc[0]['Course']\n",
    "\n",
    "# Display the result\n",
    "print(\"Course of Rick:\", rick_course)\n"
   ]
  },
  {
   "cell_type": "markdown",
   "metadata": {},
   "source": [
    "3. Using ***loc()*** function, do slicing on newly created dataframe by you called **students** to retrieve the Student, Age and country of index column,  having  2 and 3 rows (5 pt.)\n",
    "\n"
   ]
  },
  {
   "cell_type": "code",
   "execution_count": 46,
   "metadata": {},
   "outputs": [
    {
     "name": "stdout",
     "output_type": "stream",
     "text": [
      "Sliced data:\n",
      "    Name  Age    Country\n",
      "2  Danny   21         UK\n",
      "3   Rose   20  Australia\n"
     ]
    }
   ],
   "source": [
    "# Write your code below \n",
    "import pandas as pd\n",
    "\n",
    "students_data = {\n",
    "    'Name': ['Rick', 'Jonny', 'Danny', 'Rose'],\n",
    "    'Age': [20, 19, 21, 20],\n",
    "    'Course': ['Big Data', 'Data Engineering', 'Artificial Intelligence', 'Web Development'],\n",
    "    'Marks': ['95', '92', '79', '75'],\n",
    "    'Country': ['USA', 'Canada', 'UK', 'Australia'],\n",
    "}\n",
    "\n",
    "students = pd.DataFrame(students_data)\n",
    "\n",
    " \n",
    "sliced_data = students.loc[[2, 3], ['Name', 'Age', 'Country']]\n",
    "\n",
    " \n",
    "print(\"Sliced data:\")\n",
    "print(sliced_data)\n"
   ]
  },
  {
   "cell_type": "markdown",
   "metadata": {},
   "source": [
    "***"
   ]
  },
  {
   "cell_type": "markdown",
   "metadata": {},
   "source": [
    "##### Importing data with Pandas"
   ]
  },
  {
   "cell_type": "markdown",
   "metadata": {},
   "source": [
    "Pandas provides a convenient way to handle and manipulate data through the use of data frames. Here, we'll walk through the steps involved in converting data from a CSV file into a data frame."
   ]
  },
  {
   "cell_type": "code",
   "execution_count": 24,
   "metadata": {
    "tags": []
   },
   "outputs": [],
   "source": [
    "# Dependency needed to install file \n",
    "\n",
    "#pip3 install pandas\n",
    "# complete\n"
   ]
  },
  {
   "cell_type": "markdown",
   "metadata": {},
   "source": [
    "We going to import **Law enforcement surveillance technologies** dataset that contains information about which US law enforcement agencies using surveillance technologies.   More information about dataset you can find here https://data.world/publicsafety/law-enforcement-surveillance-technologies\n",
    "The variable **csv_path** stores the path of the location **.csv** file, that is  used as an argument to the **read_csv** function. The output is stored in the new created object **df**, this is a common short name used for a variable referring to a Pandas dataframe.\n"
   ]
  },
  {
   "cell_type": "code",
   "execution_count": 50,
   "metadata": {
    "tags": []
   },
   "outputs": [
    {
     "name": "stdout",
     "output_type": "stream",
     "text": [
      "  Login email;Identifier;First name;Last name\n",
      "0           laura@example.com;2070;Laura;Grey\n",
      "1        craig@example.com;4081;Craig;Johnson\n",
      "2          mary@example.com;9346;Mary;Jenkins\n",
      "3          jamie@example.com;5079;Jamie;Smith\n"
     ]
    }
   ],
   "source": [
    "# Import and Read data from CSV file\n",
    "\n",
    "import pandas as pd\n",
    "\n",
    "# Replace 'your_csv_file_path.csv' with the actual path to your CSV file\n",
    "csv_path = '/Users/dilyaibragimova/Desktop/email.csv'\n",
    "\n",
    "# Read data from CSV file into a Pandas DataFrame\n",
    "df = pd.read_csv(csv_path)\n",
    "\n",
    "# Display the first few rows of the DataFrame\n",
    "print(df.head())\n"
   ]
  },
  {
   "cell_type": "markdown",
   "metadata": {},
   "source": [
    "To inspect the initial five rows of a dataframe, you can utilize the head() method."
   ]
  },
  {
   "cell_type": "code",
   "execution_count": 51,
   "metadata": {
    "tags": []
   },
   "outputs": [
    {
     "name": "stdout",
     "output_type": "stream",
     "text": [
      "  Login email;Identifier;First name;Last name\n",
      "0           laura@example.com;2070;Laura;Grey\n",
      "1        craig@example.com;4081;Craig;Johnson\n",
      "2          mary@example.com;9346;Mary;Jenkins\n",
      "3          jamie@example.com;5079;Jamie;Smith\n"
     ]
    }
   ],
   "source": [
    "import pandas as pd\n",
    "\n",
    " \n",
    "print(df.head(5))\n"
   ]
  },
  {
   "cell_type": "markdown",
   "metadata": {},
   "source": [
    "Also we can import dataset directly from data.world using url of dataset "
   ]
  },
  {
   "cell_type": "code",
   "execution_count": 62,
   "metadata": {
    "tags": []
   },
   "outputs": [
    {
     "name": "stdout",
     "output_type": "stream",
     "text": [
      "Empty DataFrame\n",
      "Columns: [<!doctype html><html lang=\"en\"><head> <title data-react-helmet=\"true\">Law enforcement surveillance technologies - dataset by publicsafety | data.world</title> <meta data-react-helmet=\"true\" property=\"og:updated_time\" content=\"2020-08-13T19:07:12.263Z\"/><meta data-react-helmet=\"true\" property=\"og:url\" content=\"https://data.world/publicsafety/law-enforcement-surveillance-technologies\"/><meta data-react-helmet=\"true\" property=\"og:title\" content=\"Law enforcement surveillance technologies - dataset by publicsafety\"/><meta data-react-helmet=\"true\" property=\"og:description\" content=\"Repository of information on which US law enforcement agencies are using what surveillance technologies\"/><meta data-react-helmet=\"true\" name=\"description\" content=\"Repository of information on which US law enforcement agencies are using what surveillance technologies\"/> <link data-react-helmet=\"true\" rel=\"canonical\" href=\"https://data.world/publicsafety/law-enforcement-surveillance-technologies\"/>  <meta charset=\"utf-8\"><meta name=\"viewport\" content=\"width=device-width, initial-scale=1\"><meta name=\"referrer\" content=\"origin-when-cross-origin\"><meta name=\"og:image\" content=\"https://d2ogkq1rg66kh0.cloudfront.net/site-resources/images/fb-image-share.3a87a6eb.png\"><meta name=\"og:site_name\" content=\"data.world\"><meta name=\"twitter:card\" content=\"summary\"><meta name=\"twitter:site\" content=\"@datadotworld\"><meta property=\"fb:app_id\" content=\"776416075825233\"><link rel=\"stylesheet\" href=\"https://fonts.googleapis.com/css2?family=Inconsolata:wght@400;700&family=Lato:ital, wght@0, 300;0, 400;0, 700;1, 300;1, 400;1, 700&display=swap\"><link rel=\"search\" href=\"/opensearch.xml\" type=\"application/opensearchdescription+xml\" title=\"data.world\"> <script data-react-helmet=\"true\" type=\"application/ld+json\">{\"@context\":\"http://schema.org\", @type:\"Dataset\", name:\"Law enforcement surveillance technologies\", description:\"---\\n{\\\"editor\\\":\\\"simple\\\"}\\n---\\n\\u003E Law enforcement surveillance isn’t always secret. These technologies can be discovered in news articles and government meeting agendas,  in company press releases and social media posts. It just hasn’t been aggregated before.\\nThat’s the starting point for the Atlas of Surveillance,  a collaborative effort between the Electronic Frontier Foundation and the University of Nevada,  Reno Reynolds School of Journalism. Through a combination of crowdsourcing and data journalism,  we are creating the largest-ever repository of information on which law enforcement agencies are using what surveillance technologies. The aim is to generate a resource for journalists,  academics,  and,  most importantly,  members of the public to check what’s been purchased locally and how technologies are spreading across the country.\\nWe specifically focused on the most pervasive technologies,  including drones,  body-worn cameras,  face recognition,  cell-site simulators,  automated license plate readers,  predictive policing,  camera registries,  and gunshot detection. Although we have amassed more than 5, 000 datapoints in 3, 000 jurisdictions,  our research only reveals the tip of the iceberg and underlines the need for journalists and members of the public to continue demanding transparency from criminal justice agencies.\\n\\nThis file was downloaded from the source on 8\\u002F13\\u002F2020. See the source link below for a map of the data as well as methodology information and a glossary of surveillance technologies.\\n\\n**Source:** [https:\\u002F\\u002Fatlasofsurveillance.org\\u002F](https:\\u002F\\u002Fatlasofsurveillance.org\\u002F)\\n\\n**License:** [CC-BY](https:\\u002F\\u002Fcreativecommons.org\\u002Flicenses\\u002Fby\\u002F4.0\\u002F)\", alternateName:\"Repository of information on which US law enforcement agencies are using what surveillance technologies\", url:\"https:\\u002F\\u002Fdata.world\\u002Fpublicsafety\\u002Flaw-enforcement-surveillance-technologies\", license:\"CC-BY\", publisher:{\"@type\":\"Organization\", name:\"data.world\", sameAs:\"https:\\u002F\\u002Fdata.world\", url:\"https:\\u002F\\u002Fdata.world\"}, creator:{\"@context\":\"http://schema.org\", @type:\"Organization\", name:\"Public Safety\", image:\"https:\\u002F\\u002Fcdn.filepicker.io\\u002Fapi\\u002Ffile\\u002FS5CRT0y9Rw2g9qdun7dh\", description:\"Public Safety Related Datasets\", url:\"https:\\u002F\\u002Fdata.world\\u002Fpublicsafety\", parentOrganization:\"data.world\"}, includedInDataCatalog:{\"@type\":\"DataCatalog\", name:\"data.world\".1, sameAs:\"https:\\u002F\\u002Fdata.world\".1, url:\"https:\\u002F\\u002Fdata.world\"}.1, distribution:[{\"@type\":\"DataDownload\", requiresSubscription:true, encodingFormat:\"zip\", fileFormat:\"zip\", url:\"https:\\u002F\\u002Fdata.world\\u002Fpublicsafety\\u002Flaw-enforcement-surveillance-technologies\"}, {\"@type\":\"DataDownload\", requiresSubscription:true.1, encodingFormat:\"csv\", fileFormat:\"csv\", url:\"https:\\u002F\\u002Fdata.world\\u002Fpublicsafety\\u002Flaw-enforcement-surveillance-technologies\"}], sameAs:\"https:\\u002F\\u002Fdata.world\\u002Fpublicsafety\\u002Flaw-enforcement-surveillance-technologies\", keywords:[\"police\", policing, surveillance, technology, law enforcement], datePublished:\"2020-08-13T18:50:36.626Z\", dateModified:\"2023-09-12T00:28:11.814983185Z\", image:\"https:\\u002F\\u002Fcdn.filepicker.io\\u002Fapi\\u002Ffile\\u002FS5CRT0y9Rw2g9qdun7dh\".1, isAccessibleForFree:true, discussionUrl:\"https:\\u002F\\u002Fdata.world\\u002Fpublicsafety\\u002Flaw-enforcement-surveillance-technologies\\u002Fdiscuss\", interactionStatistic:[{\"@type\":\"InteractionCounter\", interactionType:\"http://schema.org\\u002FLikeAction\", userInteractionCount:48}]}</script> <link rel=\"apple-touch-icon\" sizes=\"57x57\" href=\"https://assets.data.world/icons-d1940ad25da01d05b8f27389101617c1/apple-touch-icon-57x57.png\"><link rel=\"apple-touch-icon\" sizes=\"60x60\" href=\"https://assets.data.world/icons-d1940ad25da01d05b8f27389101617c1/apple-touch-icon-60x60.png\"><link rel=\"apple-touch-icon\" sizes=\"72x72\" href=\"https://assets.data.world/icons-d1940ad25da01d05b8f27389101617c1/apple-touch-icon-72x72.png\"><link rel=\"apple-touch-icon\" sizes=\"76x76\" href=\"https://assets.data.world/icons-d1940ad25da01d05b8f27389101617c1/apple-touch-icon-76x76.png\"><link rel=\"apple-touch-icon\" sizes=\"114x114\" href=\"https://assets.data.world/icons-d1940ad25da01d05b8f27389101617c1/apple-touch-icon-114x114.png\"><link rel=\"apple-touch-icon\" sizes=\"120x120\" href=\"https://assets.data.world/icons-d1940ad25da01d05b8f27389101617c1/apple-touch-icon-120x120.png\"><link rel=\"apple-touch-icon\" sizes=\"144x144\" href=\"https://assets.data.world/icons-d1940ad25da01d05b8f27389101617c1/apple-touch-icon-144x144.png\"><link rel=\"apple-touch-icon\" sizes=\"152x152\" href=\"https://assets.data.world/icons-d1940ad25da01d05b8f27389101617c1/apple-touch-icon-152x152.png\"><link rel=\"apple-touch-icon\" sizes=\"180x180\" href=\"https://assets.data.world/icons-d1940ad25da01d05b8f27389101617c1/apple-touch-icon-180x180.png\"><meta name=\"apple-mobile-web-app-capable\" content=\"yes\"><meta name=\"apple-mobile-web-app-status-bar-style\" content=\"black-translucent\"><meta name=\"apple-mobile-web-app-title\" content=\"data.world\"><meta name=\"mobile-web-app-capable\" content=\"yes\"><meta name=\"theme-color\" content=\"#fff\"><meta name=\"application-name\" content=\"data.world\"><link rel=\"icon\" type=\"image/png\" sizes=\"32x32\" href=\"https://assets.data.world/icons-d1940ad25da01d05b8f27389101617c1/favicon-32x32.png\"><link rel=\"icon\" type=\"image/png\" sizes=\"16x16\" href=\"https://assets.data.world/icons-d1940ad25da01d05b8f27389101617c1/favicon-16x16.png\"><link rel=\"shortcut icon\" href=\"https://assets.data.world/icons-d1940ad25da01d05b8f27389101617c1/favicon.ico\"><link href=\"https://assets.data.world/css/vendors~app.62f8bdfbcc087ad06b2b.css\" rel=\"stylesheet\"><link href=\"https://assets.data.world/css/vendors~vendors.48da3a794113a419a7b4.css\" rel=\"stylesheet\"><link href=\"https://assets.data.world/css/vendors.f96b14c8ce3556a84071.css\" rel=\"stylesheet\"><link href=\"https://assets.data.world/css/app.e7b68c31ab7637f6500a.css\" rel=\"stylesheet\"></head><body ><div id=\"root\"><div class=\"page-container\"><div data-analytics-breadcrumb=\"Header\" class=\"Header__globalNav___3v0dP\"><nav data-dw=\"header\" class=\"Header__navbar___YIpWp navbar navbar-inverse\"><div class=\"container\"><div><div class=\"show-grid row\"><div class=\"col-md-3 col-sm-3 col-xs-12\"><div class=\"Header__navbarSpacing___2bfmz show-grid row\"><div class=\"col-xs-12\"><a target=\"_self\" class=\"Header__brand___2oS_y navbar-brand\" href=\"/\"><img itemProp=\"image\" src=\"https://assets.data.world/assets/logo-horiz-white.4ce1e77312620581d5a1c421c845b488.svg\" alt=\"data.world\" class=\"Header__logo___2jKwz\"/></a></div></div></div></div></div></div></nav></div><div class=\"view-container\"><div class=\"LoadingAnimation__loaderOverlay___2zSul LoadingAnimation__hideOverlay___33423 LoadingAnimation__default___KhFF6\" data-dw=\"LoadingAnimation\"><div class=\"LoadingAnimation__loaderContainer___2arLY\"><div class=\"LoadingAnimation__spinner___2qQFp\">Loading...</div></div></div></div><div data-analytics-breadcrumb=\"Footer\" class=\"Footer__container___3dfAC text-muted\"><ul class=\"list-inline\"><li><a target=\"_blank\" href=\"https://data.world/home\"><small><span>About data.world</span></small></a></li><li><a target=\"_blank\" href=\"/policy\"><small><span>Terms &amp; Privacy</span></small></a></li><br/><li><small>© <!-- -->2023<!-- --> data.world,  inc</small></li></ul></div></div></div><script type=\"application/json\" id=\"init-data\">{\"catalog\":{\"loadedResources\":{}, hoots:{}}, clients:{}, currentUser:{\"profile\":{\"abTests\":{\"buckets\":{\"coreLayoutRefactor\":{\"name\":\"active\", value:1}, loadInstanceConfig:{\"name\":\"load-instance-config\", value:1}.1, sqlAlgebra:{\"name\":\"preferLegacy\", value:2}, sqlQuery:{\"name\":\"presto\", value:4}}}, accountStanding:\"good\", activeSubscriptionid:\"\", agentid:\"\", authorizationLevels:{\"org\":\"READ\", allCatalogs:\"NONE\", dataLibrary:\"NONE\"}, avatarUrl:\"\", bio:\"\", catalogStatistics:{\"analysesCount\":0, datasetsCount:0, dataTypesCount:0, glossaryCount:0, projectsCount:0, tablesCount:0}, displayName:\"\", email:\"\", ...]\n",
      "Index: []\n",
      "\n",
      "[0 rows x 880 columns]\n"
     ]
    }
   ],
   "source": [
    "import pandas as pd\n",
    "\n",
    "# Replace 'your_data_world_url' with the actual URL of your dataset on data.world\n",
    "data_world_url = 'https://data.world/publicsafety/law-enforcement-surveillance-technologies'\n",
    "\n",
    "# Read data from the data.world URL into a Pandas DataFrame\n",
    "df = pd.read_csv(data_world_url)\n",
    "\n",
    "# Display the first five rows of the DataFrame\n",
    "print(df.head())\n"
   ]
  },
  {
   "cell_type": "markdown",
   "metadata": {
    "tags": []
   },
   "source": [
    "### Practice Exercise 3: \n"
   ]
  },
  {
   "cell_type": "markdown",
   "metadata": {},
   "source": [
    "1. Use a variable **c** to store the column City from **Law enforcement surveillance technologies** dataset as a dataframe (5 pt.)"
   ]
  },
  {
   "cell_type": "code",
   "execution_count": 73,
   "metadata": {},
   "outputs": [
    {
     "name": "stdout",
     "output_type": "stream",
     "text": [
      "        City\n",
      "0  Woodstock\n",
      "1   Rockford\n",
      "2    Atlanta\n",
      "3     Peoria\n",
      "4  Goldsboro\n"
     ]
    }
   ],
   "source": [
    "import pandas as pd\n",
    "\n",
    "# Assuming df is your DataFrame\n",
    "# Replace 'your_csv_file_path.csv' with the actual path to your dataset\n",
    "csv_path = '/Users/dilyaibragimova/Desktop/Atlas of Surveillance-20200813.csv'\n",
    "\n",
    "# Read data from the CSV file into a Pandas DataFrame\n",
    "df = pd.read_csv(csv_path)\n",
    "\n",
    "# Use a variable c to store the \"City\" column as a DataFrame\n",
    "c = df[['City']]\n",
    "\n",
    "# Display the \"City\" DataFrame\n",
    "print(c.head())\n"
   ]
  },
  {
   "cell_type": "markdown",
   "metadata": {},
   "source": [
    "2. Assign the variable **z** to the dataframe that is consist of the columns **State** and **Deaths** from **Gun Deaths in US from 1999 to 2019** dataset. (5pt.)\n"
   ]
  },
  {
   "cell_type": "code",
   "execution_count": 88,
   "metadata": {},
   "outputs": [
    {
     "ename": "InvalidIndexError",
     "evalue": "(['State'], ['Deaths'])",
     "output_type": "error",
     "traceback": [
      "\u001b[0;31m---------------------------------------------------------------------------\u001b[0m",
      "\u001b[0;31mTypeError\u001b[0m                                 Traceback (most recent call last)",
      "File \u001b[0;32m/Library/Frameworks/Python.framework/Versions/3.11/lib/python3.11/site-packages/pandas/core/indexes/base.py:3790\u001b[0m, in \u001b[0;36mIndex.get_loc\u001b[0;34m(self, key)\u001b[0m\n\u001b[1;32m   3789\u001b[0m \u001b[39mtry\u001b[39;00m:\n\u001b[0;32m-> 3790\u001b[0m     \u001b[39mreturn\u001b[39;00m \u001b[39mself\u001b[39;49m\u001b[39m.\u001b[39;49m_engine\u001b[39m.\u001b[39;49mget_loc(casted_key)\n\u001b[1;32m   3791\u001b[0m \u001b[39mexcept\u001b[39;00m \u001b[39mKeyError\u001b[39;00m \u001b[39mas\u001b[39;00m err:\n",
      "File \u001b[0;32mindex.pyx:152\u001b[0m, in \u001b[0;36mpandas._libs.index.IndexEngine.get_loc\u001b[0;34m()\u001b[0m\n",
      "File \u001b[0;32mindex.pyx:158\u001b[0m, in \u001b[0;36mpandas._libs.index.IndexEngine.get_loc\u001b[0;34m()\u001b[0m\n",
      "\u001b[0;31mTypeError\u001b[0m: '(['State'], ['Deaths'])' is an invalid key",
      "\nDuring handling of the above exception, another exception occurred:\n",
      "\u001b[0;31mInvalidIndexError\u001b[0m                         Traceback (most recent call last)",
      "\u001b[1;32m/Users/dilyaibragimova/Downloads/Assignment2.ipynb Cell 50\u001b[0m line \u001b[0;36m9\n\u001b[1;32m      <a href='vscode-notebook-cell:/Users/dilyaibragimova/Downloads/Assignment2.ipynb#Y102sZmlsZQ%3D%3D?line=5'>6</a>\u001b[0m \u001b[39m# Read data from the CSV file into a Pandas DataFrame\u001b[39;00m\n\u001b[1;32m      <a href='vscode-notebook-cell:/Users/dilyaibragimova/Downloads/Assignment2.ipynb#Y102sZmlsZQ%3D%3D?line=6'>7</a>\u001b[0m df \u001b[39m=\u001b[39m pd\u001b[39m.\u001b[39mread_csv(csv_path)\n\u001b[0;32m----> <a href='vscode-notebook-cell:/Users/dilyaibragimova/Downloads/Assignment2.ipynb#Y102sZmlsZQ%3D%3D?line=8'>9</a>\u001b[0m z \u001b[39m=\u001b[39m df[[\u001b[39m'\u001b[39;49m\u001b[39mState\u001b[39;49m\u001b[39m'\u001b[39;49m], [\u001b[39m'\u001b[39;49m\u001b[39mDeaths\u001b[39;49m\u001b[39m'\u001b[39;49m]]\n\u001b[1;32m     <a href='vscode-notebook-cell:/Users/dilyaibragimova/Downloads/Assignment2.ipynb#Y102sZmlsZQ%3D%3D?line=10'>11</a>\u001b[0m \u001b[39mprint\u001b[39m(z\u001b[39m.\u001b[39mhead())\n",
      "File \u001b[0;32m/Library/Frameworks/Python.framework/Versions/3.11/lib/python3.11/site-packages/pandas/core/frame.py:3896\u001b[0m, in \u001b[0;36mDataFrame.__getitem__\u001b[0;34m(self, key)\u001b[0m\n\u001b[1;32m   3894\u001b[0m \u001b[39mif\u001b[39;00m \u001b[39mself\u001b[39m\u001b[39m.\u001b[39mcolumns\u001b[39m.\u001b[39mnlevels \u001b[39m>\u001b[39m \u001b[39m1\u001b[39m:\n\u001b[1;32m   3895\u001b[0m     \u001b[39mreturn\u001b[39;00m \u001b[39mself\u001b[39m\u001b[39m.\u001b[39m_getitem_multilevel(key)\n\u001b[0;32m-> 3896\u001b[0m indexer \u001b[39m=\u001b[39m \u001b[39mself\u001b[39;49m\u001b[39m.\u001b[39;49mcolumns\u001b[39m.\u001b[39;49mget_loc(key)\n\u001b[1;32m   3897\u001b[0m \u001b[39mif\u001b[39;00m is_integer(indexer):\n\u001b[1;32m   3898\u001b[0m     indexer \u001b[39m=\u001b[39m [indexer]\n",
      "File \u001b[0;32m/Library/Frameworks/Python.framework/Versions/3.11/lib/python3.11/site-packages/pandas/core/indexes/base.py:3802\u001b[0m, in \u001b[0;36mIndex.get_loc\u001b[0;34m(self, key)\u001b[0m\n\u001b[1;32m   3797\u001b[0m     \u001b[39mraise\u001b[39;00m \u001b[39mKeyError\u001b[39;00m(key) \u001b[39mfrom\u001b[39;00m \u001b[39merr\u001b[39;00m\n\u001b[1;32m   3798\u001b[0m \u001b[39mexcept\u001b[39;00m \u001b[39mTypeError\u001b[39;00m:\n\u001b[1;32m   3799\u001b[0m     \u001b[39m# If we have a listlike key, _check_indexing_error will raise\u001b[39;00m\n\u001b[1;32m   3800\u001b[0m     \u001b[39m#  InvalidIndexError. Otherwise we fall through and re-raise\u001b[39;00m\n\u001b[1;32m   3801\u001b[0m     \u001b[39m#  the TypeError.\u001b[39;00m\n\u001b[0;32m-> 3802\u001b[0m     \u001b[39mself\u001b[39;49m\u001b[39m.\u001b[39;49m_check_indexing_error(key)\n\u001b[1;32m   3803\u001b[0m     \u001b[39mraise\u001b[39;00m\n",
      "File \u001b[0;32m/Library/Frameworks/Python.framework/Versions/3.11/lib/python3.11/site-packages/pandas/core/indexes/base.py:5974\u001b[0m, in \u001b[0;36mIndex._check_indexing_error\u001b[0;34m(self, key)\u001b[0m\n\u001b[1;32m   5970\u001b[0m \u001b[39mdef\u001b[39;00m \u001b[39m_check_indexing_error\u001b[39m(\u001b[39mself\u001b[39m, key):\n\u001b[1;32m   5971\u001b[0m     \u001b[39mif\u001b[39;00m \u001b[39mnot\u001b[39;00m is_scalar(key):\n\u001b[1;32m   5972\u001b[0m         \u001b[39m# if key is not a scalar, directly raise an error (the code below\u001b[39;00m\n\u001b[1;32m   5973\u001b[0m         \u001b[39m# would convert to numpy arrays and raise later any way) - GH29926\u001b[39;00m\n\u001b[0;32m-> 5974\u001b[0m         \u001b[39mraise\u001b[39;00m InvalidIndexError(key)\n",
      "\u001b[0;31mInvalidIndexError\u001b[0m: (['State'], ['Deaths'])"
     ]
    }
   ],
   "source": [
    "# Write your code below\n",
    "#import OleFileIO_PL\n",
    "import pandas as pd\n",
    "csv_path = '/Users/dilyaibragimova/Desktop/Atlas of Surveillance-20200813.csv'\n",
    "\n",
    "# Read data from the CSV file into a Pandas DataFrame\n",
    "df = pd.read_csv(csv_path)\n",
    "\n",
    "z = df[['State'], ['Deaths']]\n",
    "\n",
    "print(z.head())\n"
   ]
  },
  {
   "cell_type": "markdown",
   "metadata": {},
   "source": [
    "3. Access to the data from 1st row and the 3rd column from **Law enforcement surveillance technologies** dataset: ( 5pt.)\n"
   ]
  },
  {
   "cell_type": "code",
   "execution_count": 89,
   "metadata": {},
   "outputs": [
    {
     "name": "stdout",
     "output_type": "stream",
     "text": [
      "Data from 1st row and 3rd column: Shenandoah County\n"
     ]
    }
   ],
   "source": [
    "# Write your code below\n",
    "import pandas as pd\n",
    "\n",
    "# Assuming df is your DataFrame\n",
    "# Replace 'your_csv_file_path.csv' with the actual path or URL of your dataset\n",
    "csv_path = '/Users/dilyaibragimova/Desktop/Atlas of Surveillance-20200813.csv'\n",
    "\n",
    "# Read data from the CSV file into a Pandas DataFrame\n",
    "df = pd.read_csv(csv_path)\n",
    "\n",
    "# Access data from the 1st row and the 3rd column\n",
    "data_point = df.iloc[0, 2]\n",
    "\n",
    "# Display the value\n",
    "print(\"Data from 1st row and 3rd column:\", data_point)\n"
   ]
  },
  {
   "cell_type": "markdown",
   "metadata": {},
   "source": [
    "### Part 3: Numpy\n",
    "\n",
    "NumPy is a Python library designed for tasks involving arrays, linear algebra, Fourier transforms, and matrices. A NumPy array shares similarities with a list, but it offers significant advantages. NumPy, short for Numerical Python, is an open-source project. The primary array object in NumPy is called **ndarray**, and it comes equipped with an array of functions that simplify working with it.\n",
    "\n",
    "In data science, arrays find extensive use, particularly when efficiency and resource management are critical.\n",
    "\n",
    "Typically, NumPy is imported under the alias np. NumPy arrays have fixed sizes, and all elements within an array are of the same data type. You can convert a regular list into a NumPy array after importing the numpy library.\n",
    "\n",
    "The key difference between Pandas and Numpy can be found here: https://www.knowledgehut.com/blog/data-science/pandas-vs-numpy"
   ]
  },
  {
   "cell_type": "code",
   "execution_count": 90,
   "metadata": {
    "tags": []
   },
   "outputs": [],
   "source": [
    "# import numpy library\n",
    "import numpy as np\n"
   ]
  },
  {
   "cell_type": "markdown",
   "metadata": {},
   "source": [
    "We can create the array as follows:\n"
   ]
  },
  {
   "cell_type": "code",
   "execution_count": 91,
   "metadata": {
    "tags": []
   },
   "outputs": [
    {
     "name": "stdout",
     "output_type": "stream",
     "text": [
      "[1 2 3 4 5]\n"
     ]
    }
   ],
   "source": [
    "# Create a numpy array\n",
    "\n",
    "import numpy as np\n",
    "\n",
    " \n",
    "arr = np.array([1, 2, 3, 4, 5])\n",
    "\n",
    " \n",
    "print(arr)\n"
   ]
  },
  {
   "cell_type": "markdown",
   "metadata": {},
   "source": [
    "Similar to lists, you can access individual elements using square brackets.\n",
    "\n",
    "\n",
    "\n",
    "\n"
   ]
  },
  {
   "cell_type": "code",
   "execution_count": 92,
   "metadata": {
    "tags": []
   },
   "outputs": [
    {
     "name": "stdout",
     "output_type": "stream",
     "text": [
      "[2 3]\n"
     ]
    }
   ],
   "source": [
    "import numpy as np\n",
    "\n",
    "arr = np.array([1, 2, 3, 4, 5])\n",
    "\n",
    " \n",
    "print(arr[1:3]) \n"
   ]
  },
  {
   "cell_type": "markdown",
   "metadata": {},
   "source": [
    " We can change the first element of the array to 10 as follows:"
   ]
  },
  {
   "cell_type": "code",
   "execution_count": 93,
   "metadata": {
    "tags": []
   },
   "outputs": [
    {
     "name": "stdout",
     "output_type": "stream",
     "text": [
      "[10  2  3  4  5]\n"
     ]
    }
   ],
   "source": [
    "# Assign the first element to 10\n",
    "import numpy as np\n",
    "\n",
    "arr = np.array([1, 2, 3, 4, 5])\n",
    " \n",
    "arr[0] = 10\n",
    "\n",
    " \n",
    "print(arr)\n"
   ]
  },
  {
   "cell_type": "markdown",
   "metadata": {},
   "source": [
    "We can make slicing:"
   ]
  },
  {
   "cell_type": "code",
   "execution_count": 29,
   "metadata": {
    "tags": []
   },
   "outputs": [],
   "source": [
    "# Slicing the numpy array\n"
   ]
  },
  {
   "cell_type": "markdown",
   "metadata": {},
   "source": [
    "We can also define the steps in slicing, like this: [start:end:step]."
   ]
  },
  {
   "cell_type": "code",
   "execution_count": 94,
   "metadata": {
    "tags": []
   },
   "outputs": [
    {
     "name": "stdout",
     "output_type": "stream",
     "text": [
      "[2 3]\n"
     ]
    }
   ],
   "source": [
    "import numpy as np\n",
    "\n",
    " \n",
    "arr = np.array([1, 2, 3, 4, 5])\n",
    "\n",
    " \n",
    "sliced_arr = arr[1:3]\n",
    "print(sliced_arr)   \n",
    " "
   ]
  },
  {
   "cell_type": "markdown",
   "metadata": {},
   "source": [
    "#### Attributes"
   ]
  },
  {
   "cell_type": "markdown",
   "metadata": {},
   "source": [
    "The attribute **size** shows the number of elements in the array:\n"
   ]
  },
  {
   "cell_type": "code",
   "execution_count": 95,
   "metadata": {
    "tags": []
   },
   "outputs": [
    {
     "name": "stdout",
     "output_type": "stream",
     "text": [
      "Size of the array: 9\n"
     ]
    }
   ],
   "source": [
    "import numpy as np\n",
    "\n",
    "# Create a NumPy array\n",
    "arr = np.array([[1, 2, 3], [4, 5, 6], [7, 8, 9]])\n",
    "\n",
    "# Get the size of the array\n",
    "array_size = arr.size\n",
    "\n",
    "# Print the size\n",
    "print(\"Size of the array:\", array_size)\n"
   ]
  },
  {
   "cell_type": "markdown",
   "metadata": {},
   "source": [
    "The attribute **ndim** represents the number of array dimensions, or the rank of the array. In our case it is one."
   ]
  },
  {
   "cell_type": "code",
   "execution_count": 96,
   "metadata": {
    "tags": []
   },
   "outputs": [
    {
     "name": "stdout",
     "output_type": "stream",
     "text": [
      "Number of dimensions (rank) of the 1D array: 1\n"
     ]
    }
   ],
   "source": [
    "import numpy as np\n",
    " \n",
    "arr_1d = np.array([1, 2, 3, 4, 5])\n",
    "\n",
    " \n",
    "array_rank_1d = arr_1d.ndim\n",
    "\n",
    " \n",
    "print(\"Number of dimensions (rank) of the 1D array:\", array_rank_1d)\n"
   ]
  },
  {
   "cell_type": "markdown",
   "metadata": {},
   "source": [
    "The attribute **shape** indicates the size of the array in each dimension:"
   ]
  },
  {
   "cell_type": "code",
   "execution_count": 97,
   "metadata": {
    "tags": []
   },
   "outputs": [
    {
     "name": "stdout",
     "output_type": "stream",
     "text": [
      "Shape of the 2D array: (3, 3)\n"
     ]
    }
   ],
   "source": [
    "import numpy as np\n",
    " \n",
    "arr_2d = np.array([[1, 2, 3], [4, 5, 6], [7, 8, 9]])\n",
    "\n",
    " \n",
    "array_shape_2d = arr_2d.shape\n",
    "\n",
    " \n",
    "print(\"Shape of the 2D array:\", array_shape_2d)\n"
   ]
  },
  {
   "cell_type": "markdown",
   "metadata": {},
   "source": [
    "#### Statistical Functions"
   ]
  },
  {
   "cell_type": "code",
   "execution_count": 99,
   "metadata": {
    "tags": []
   },
   "outputs": [
    {
     "name": "stdout",
     "output_type": "stream",
     "text": [
      "Data: [ 1  2  3  4  5  6  7  8  9 10]\n"
     ]
    }
   ],
   "source": [
    "#Let's create a numpy array\n",
    "import numpy as np\n",
    " \n",
    "data = np.array([1, 2, 3, 4, 5, 6, 7, 8, 9, 10])\n",
    "\n",
    " \n",
    " \n",
    "print(\"Data:\", data)\n",
    " \n",
    "\n"
   ]
  },
  {
   "cell_type": "code",
   "execution_count": 31,
   "metadata": {
    "tags": []
   },
   "outputs": [],
   "source": [
    "# Get the mean of numpy array\n",
    "\n"
   ]
  },
  {
   "cell_type": "code",
   "execution_count": 100,
   "metadata": {},
   "outputs": [
    {
     "name": "stdout",
     "output_type": "stream",
     "text": [
      "Mean of the array: 5.5\n"
     ]
    }
   ],
   "source": [
    "import numpy as np\n",
    "\n",
    " \n",
    "data = np.array([1, 2, 3, 4, 5, 6, 7, 8, 9, 10])\n",
    " \n",
    "mean_value = np.mean(data)\n",
    " \n",
    "print(\"Mean of the array:\", mean_value)\n"
   ]
  },
  {
   "cell_type": "code",
   "execution_count": 101,
   "metadata": {
    "tags": []
   },
   "outputs": [
    {
     "name": "stdout",
     "output_type": "stream",
     "text": [
      "Standard Deviation of the array: 2.8722813232690143\n"
     ]
    }
   ],
   "source": [
    "# Get the standard deviation of numpy array\n",
    "\n",
    "import numpy as np\n",
    " \n",
    "data = np.array([1, 2, 3, 4, 5, 6, 7, 8, 9, 10])\n",
    "\n",
    " \n",
    "std_deviation = np.std(data)\n",
    "\n",
    " \n",
    "print(\"Standard Deviation of the array:\", std_deviation)\n"
   ]
  },
  {
   "cell_type": "code",
   "execution_count": 102,
   "metadata": {
    "tags": []
   },
   "outputs": [
    {
     "name": "stdout",
     "output_type": "stream",
     "text": [
      "Maximum value in the array: 10\n"
     ]
    }
   ],
   "source": [
    "# Get the biggest value in the numpy array\n",
    "import numpy as np\n",
    " \n",
    "data = np.array([1, 2, 3, 4, 5, 6, 7, 8, 9, 10])\n",
    " \n",
    "max_value = np.max(data)\n",
    "\n",
    " \n",
    "print(\"Maximum value in the array:\", max_value)\n"
   ]
  },
  {
   "cell_type": "code",
   "execution_count": 103,
   "metadata": {
    "tags": []
   },
   "outputs": [
    {
     "name": "stdout",
     "output_type": "stream",
     "text": [
      "Minimum value in the array: 1\n"
     ]
    }
   ],
   "source": [
    "# Get the smallest value in the numpy array\n",
    "\n",
    "import numpy as np\n",
    "\n",
    " \n",
    "data = np.array([1, 2, 3, 4, 5, 6, 7, 8, 9, 10])\n",
    "\n",
    " \n",
    "min_value = np.min(data)\n",
    "\n",
    " \n",
    "print(\"Minimum value in the array:\", min_value)\n"
   ]
  },
  {
   "cell_type": "markdown",
   "metadata": {},
   "source": [
    "#### Basic Arithmetic Operations"
   ]
  },
  {
   "cell_type": "markdown",
   "metadata": {
    "tags": []
   },
   "source": [
    "*Addition*"
   ]
  },
  {
   "cell_type": "code",
   "execution_count": 104,
   "metadata": {
    "tags": []
   },
   "outputs": [
    {
     "name": "stdout",
     "output_type": "stream",
     "text": [
      "Array 1: [1 2 3 4 5]\n",
      "Array 2: [ 6  7  8  9 10]\n",
      "Result of addition: [ 7  9 11 13 15]\n"
     ]
    }
   ],
   "source": [
    "# Let's create two arrays \n",
    "import numpy as np\n",
    " \n",
    "array1 = np.array([1, 2, 3, 4, 5])\n",
    "array2 = np.array([6, 7, 8, 9, 10])\n",
    " \n",
    "result_array = array1 + array2\n",
    "\n",
    " \n",
    "print(\"Array 1:\", array1)\n",
    "print(\"Array 2:\", array2)\n",
    "print(\"Result of addition:\", result_array)\n",
    " "
   ]
  },
  {
   "cell_type": "markdown",
   "metadata": {
    "tags": []
   },
   "source": [
    "*Substraction*"
   ]
  },
  {
   "cell_type": "code",
   "execution_count": 105,
   "metadata": {
    "tags": []
   },
   "outputs": [
    {
     "name": "stdout",
     "output_type": "stream",
     "text": [
      "Array 1: [1 2 3 4 5]\n",
      "Array 2: [ 6  7  8  9 10]\n",
      "Result of addition: [-5 -5 -5 -5 -5]\n"
     ]
    }
   ],
   "source": [
    "import numpy as np\n",
    "\n",
    " \n",
    "array1 = np.array([1, 2, 3, 4, 5])\n",
    "array2 = np.array([6, 7, 8, 9, 10])\n",
    " \n",
    "result_array = array1 - array2\n",
    "\n",
    "# Print the result\n",
    "print(\"Array 1:\", array1)\n",
    "print(\"Array 2:\", array2)\n",
    "print(\"Result of addition:\", result_array)"
   ]
  },
  {
   "cell_type": "markdown",
   "metadata": {
    "tags": []
   },
   "source": [
    "*Multiplication*"
   ]
  },
  {
   "cell_type": "code",
   "execution_count": 106,
   "metadata": {
    "tags": []
   },
   "outputs": [
    {
     "name": "stdout",
     "output_type": "stream",
     "text": [
      "Array 1: [1 2 3 4 5]\n",
      "Array 2: [ 6  7  8  9 10]\n",
      "Result of addition: [ 6 14 24 36 50]\n"
     ]
    }
   ],
   "source": [
    "import numpy as np\n",
    "\n",
    " \n",
    "array1 = np.array([1, 2, 3, 4, 5])\n",
    "array2 = np.array([6, 7, 8, 9, 10])\n",
    "\n",
    " \n",
    "result_array = array1 * array2\n",
    "\n",
    " \n",
    "print(\"Array 1:\", array1)\n",
    "print(\"Array 2:\", array2)\n",
    "print(\"Result of addition:\", result_array)"
   ]
  },
  {
   "cell_type": "markdown",
   "metadata": {},
   "source": [
    "Division"
   ]
  },
  {
   "cell_type": "code",
   "execution_count": 107,
   "metadata": {
    "tags": []
   },
   "outputs": [
    {
     "name": "stdout",
     "output_type": "stream",
     "text": [
      "Array 1: [1 2 3 4 5]\n",
      "Array 2: [ 6  7  8  9 10]\n",
      "Result of addition: [0.16666667 0.28571429 0.375      0.44444444 0.5       ]\n"
     ]
    }
   ],
   "source": [
    "import numpy as np\n",
    " \n",
    "array1 = np.array([1, 2, 3, 4, 5])\n",
    "array2 = np.array([6, 7, 8, 9, 10])\n",
    "\n",
    " \n",
    "result_array = array1 / array2\n",
    "\n",
    " \n",
    "print(\"Array 1:\", array1)\n",
    "print(\"Array 2:\", array2)\n",
    "print(\"Result of addition:\", result_array)"
   ]
  },
  {
   "attachments": {
    "ed186af2-8fb3-4496-be10-62860695b580.png": {
     "image/png": "[encoded data removed]"
    }
   },
   "cell_type": "markdown",
   "metadata": {},
   "source": [
    "#### Dot Product\n",
    "\n",
    "The dot product, also called scalar product, is a measure of how closely two vectors align, in terms of the directions they point.\n",
    "\n",
    "The dot product between two arrays is shown below:\n",
    "\n",
    "![Снимок экрана 2023-10-12 215650.png](attachment:ed186af2-8fb3-4496-be10-62860695b580.png)\n"
   ]
  },
  {
   "cell_type": "code",
   "execution_count": 108,
   "metadata": {
    "tags": []
   },
   "outputs": [
    {
     "name": "stdout",
     "output_type": "stream",
     "text": [
      "Array 1: [1 2 3]\n",
      "Array 2: [4 5 6]\n",
      "Dot Product Result: 32\n",
      "Dot Product Result (Alternative): 32\n"
     ]
    }
   ],
   "source": [
    "# let's create two arrays\n",
    "\n",
    "import numpy as np\n",
    "\n",
    " \n",
    "array1 = np.array([1, 2, 3])\n",
    "array2 = np.array([4, 5, 6])\n",
    "\n",
    " \n",
    "dot_product_result = np.dot(array1, array2)\n",
    " \n",
    "dot_product_result_alternative = array1 @ array2\n",
    " \n",
    "print(\"Array 1:\", array1)\n",
    "print(\"Array 2:\", array2)\n",
    "print(\"Dot Product Result:\", dot_product_result)\n",
    "print(\"Dot Product Result (Alternative):\", dot_product_result_alternative)\n",
    " "
   ]
  },
  {
   "cell_type": "markdown",
   "metadata": {
    "tags": []
   },
   "source": [
    "#### Adding Constant to a Numpy Array"
   ]
  },
  {
   "cell_type": "code",
   "execution_count": 109,
   "metadata": {
    "tags": []
   },
   "outputs": [
    {
     "name": "stdout",
     "output_type": "stream",
     "text": [
      "Original Array: [1 2 3 4 5]\n",
      "Constant Value: 10\n",
      "Result Array (Using + operator): [11 12 13 14 15]\n",
      "Result Array (Using np.add()): [11 12 13 14 15]\n"
     ]
    }
   ],
   "source": [
    "# Create a constant to numpy array\n",
    "\n",
    "import numpy as np\n",
    " \n",
    " \n",
    "original_array = np.array([1, 2, 3, 4, 5])\n",
    "\n",
    " \n",
    "constant_value = 10\n",
    "\n",
    "result_array = original_array + constant_value\n",
    "\n",
    " \n",
    "result_array_alternative = np.add(original_array, constant_value)\n",
    "\n",
    " \n",
    "print(\"Original Array:\", original_array)\n",
    "print(\"Constant Value:\", constant_value)\n",
    "print(\"Result Array (Using + operator):\", result_array)\n",
    "print(\"Result Array (Using np.add()):\", result_array_alternative)\n",
    "\n"
   ]
  },
  {
   "cell_type": "code",
   "execution_count": 110,
   "metadata": {
    "tags": []
   },
   "outputs": [
    {
     "name": "stdout",
     "output_type": "stream",
     "text": [
      "Original Array: [1 2 3 4 5]\n",
      "Constant Value: 10\n",
      "Result Array: [11 12 13 14 15]\n"
     ]
    }
   ],
   "source": [
    "# Add the constant to array\n",
    "\n",
    "import numpy as np\n",
    " \n",
    "original_array = np.array([1, 2, 3, 4, 5])\n",
    "\n",
    " \n",
    "constant_value = 10\n",
    " \n",
    "result_array = original_array + constant_value\n",
    "\n",
    " \n",
    "print(\"Original Array:\", original_array)\n",
    "print(\"Constant Value:\", constant_value)\n",
    "print(\"Result Array:\", result_array)\n"
   ]
  },
  {
   "cell_type": "markdown",
   "metadata": {
    "tags": []
   },
   "source": [
    "#### Mathematical Functions"
   ]
  },
  {
   "cell_type": "code",
   "execution_count": 111,
   "metadata": {
    "tags": []
   },
   "outputs": [
    {
     "name": "stdout",
     "output_type": "stream",
     "text": [
      "The value of pi: 3.141592653589793\n"
     ]
    }
   ],
   "source": [
    "# The value of pi\n",
    "import numpy as np\n",
    "\n",
    "# Get the value of pi\n",
    "pi_value = np.pi\n",
    "\n",
    "# Print the result\n",
    "print(\"The value of pi:\", pi_value)\n"
   ]
  },
  {
   "cell_type": "code",
   "execution_count": 112,
   "metadata": {
    "tags": []
   },
   "outputs": [
    {
     "name": "stdout",
     "output_type": "stream",
     "text": [
      "Degrees Array: [  0  45  90 135 180 225 270 315]\n",
      "Radians Array: [0.         0.78539816 1.57079633 2.35619449 3.14159265 3.92699082\n",
      " 4.71238898 5.49778714]\n"
     ]
    }
   ],
   "source": [
    "# Create the numpy array in radians\n",
    "import numpy as np\n",
    "\n",
    " \n",
    "degrees_array = np.arange(0, 360, 45)\n",
    " \n",
    "radians_array = np.radians(degrees_array)\n",
    " \n",
    "print(\"Degrees Array:\", degrees_array)\n",
    "print(\"Radians Array:\", radians_array)\n"
   ]
  },
  {
   "cell_type": "markdown",
   "metadata": {},
   "source": [
    "We can use **sin** function to the array <code>x</code> and find the sine function to each element in the array:"
   ]
  },
  {
   "cell_type": "code",
   "execution_count": 113,
   "metadata": {
    "tags": []
   },
   "outputs": [
    {
     "name": "stdout",
     "output_type": "stream",
     "text": [
      "Array x (in radians): [0.         1.57079633 3.14159265 4.71238898 6.28318531]\n",
      "Sine Values: [ 0.0000000e+00  1.0000000e+00  1.2246468e-16 -1.0000000e+00\n",
      " -2.4492936e-16]\n"
     ]
    }
   ],
   "source": [
    "import numpy as np\n",
    "\n",
    " \n",
    "x = np.array([0, np.pi/2, np.pi, 3*np.pi/2, 2*np.pi])\n",
    "\n",
    " \n",
    "sin_values = np.sin(x)\n",
    "  \n",
    "print(\"Array x (in radians):\", x)\n",
    "print(\"Sine Values:\", sin_values)\n"
   ]
  },
  {
   "cell_type": "markdown",
   "metadata": {},
   "source": [
    "#### Linspace\n",
    "\n",
    "Linspace one of the usefull functions that produces a sequence of evenly spaced numbers within a defined range.\n",
    "\n",
    "The syntax looks like this:\n",
    "\n",
    " **numpy.linspace(start, stop, num = int value)**\n"
   ]
  },
  {
   "cell_type": "markdown",
   "metadata": {},
   "source": [
    "- start: The beginning of the interval range.\n",
    "- stop: The end of the interval range.\n",
    "- num: The number of samples to generate."
   ]
  },
  {
   "cell_type": "code",
   "execution_count": 114,
   "metadata": {
    "tags": []
   },
   "outputs": [
    {
     "name": "stdout",
     "output_type": "stream",
     "text": [
      "Generated NumPy array: [-3.  1.  5.]\n"
     ]
    }
   ],
   "source": [
    "# Let's make a numpy array within [-3, 5] and 3 elements\n",
    "import numpy as np\n",
    "\n",
    " \n",
    "array = np.linspace(-3, 5, 3)\n",
    "\n",
    " \n",
    "print(\"Generated NumPy array:\", array)\n"
   ]
  },
  {
   "cell_type": "code",
   "execution_count": 116,
   "metadata": {
    "tags": []
   },
   "outputs": [
    {
     "name": "stdout",
     "output_type": "stream",
     "text": [
      "Generated NumPy array: [0.         0.06346652 0.12693304 0.19039955 0.25386607 0.31733259\n",
      " 0.38079911 0.44426563 0.50773215 0.57119866 0.63466518 0.6981317\n",
      " 0.76159822 0.82506474 0.88853126 0.95199777 1.01546429 1.07893081\n",
      " 1.14239733 1.20586385 1.26933037 1.33279688 1.3962634  1.45972992\n",
      " 1.52319644 1.58666296 1.65012947 1.71359599 1.77706251 1.84052903\n",
      " 1.90399555 1.96746207 2.03092858 2.0943951  2.15786162 2.22132814\n",
      " 2.28479466 2.34826118 2.41172769 2.47519421 2.53866073 2.60212725\n",
      " 2.66559377 2.72906028 2.7925268  2.85599332 2.91945984 2.98292636\n",
      " 3.04639288 3.10985939 3.17332591 3.23679243 3.30025895 3.36372547\n",
      " 3.42719199 3.4906585  3.55412502 3.61759154 3.68105806 3.74452458\n",
      " 3.8079911  3.87145761 3.93492413 3.99839065 4.06185717 4.12532369\n",
      " 4.1887902  4.25225672 4.31572324 4.37918976 4.44265628 4.5061228\n",
      " 4.56958931 4.63305583 4.69652235 4.75998887 4.82345539 4.88692191\n",
      " 4.95038842 5.01385494 5.07732146 5.14078798 5.2042545  5.26772102\n",
      " 5.33118753 5.39465405 5.45812057 5.52158709 5.58505361 5.64852012\n",
      " 5.71198664 5.77545316 5.83891968 5.9023862  5.96585272 6.02931923\n",
      " 6.09278575 6.15625227 6.21971879 6.28318531]\n"
     ]
    }
   ],
   "source": [
    "# We can make a numpy array within [0, 2π] and 100 elements \n",
    "import numpy as np\n",
    "\n",
    " \n",
    "array = np.linspace(0, 2 * np.pi, 100)\n",
    "\n",
    " \n",
    "print(\"Generated NumPy array:\", array)\n",
    "\n"
   ]
  },
  {
   "cell_type": "markdown",
   "metadata": {
    "tags": []
   },
   "source": [
    "#### Iterations\n",
    "Iteration can be accomplished through the loop, using **for** and **in** functions."
   ]
  },
  {
   "cell_type": "code",
   "execution_count": 117,
   "metadata": {
    "tags": []
   },
   "outputs": [
    {
     "name": "stdout",
     "output_type": "stream",
     "text": [
      "0.0\n",
      "0.06346651825433926\n",
      "0.12693303650867852\n",
      "0.1903995547630178\n",
      "0.25386607301735703\n",
      "0.3173325912716963\n",
      "0.3807991095260356\n",
      "0.4442656277803748\n",
      "0.5077321460347141\n",
      "0.5711986642890533\n",
      "0.6346651825433925\n",
      "0.6981317007977318\n",
      "0.7615982190520711\n",
      "0.8250647373064104\n",
      "0.8885312555607496\n",
      "0.9519977738150889\n",
      "1.0154642920694281\n",
      "1.0789308103237674\n",
      "1.1423973285781066\n",
      "1.2058638468324459\n",
      "1.269330365086785\n",
      "1.3327968833411243\n",
      "1.3962634015954636\n",
      "1.4597299198498028\n",
      "1.5231964381041423\n",
      "1.5866629563584815\n",
      "1.6501294746128208\n",
      "1.71359599286716\n",
      "1.7770625111214993\n",
      "1.8405290293758385\n",
      "1.9039955476301778\n",
      "1.967462065884517\n",
      "2.0309285841388562\n",
      "2.0943951023931957\n",
      "2.1578616206475347\n",
      "2.221328138901874\n",
      "2.284794657156213\n",
      "2.3482611754105527\n",
      "2.4117276936648917\n",
      "2.475194211919231\n",
      "2.53866073017357\n",
      "2.6021272484279097\n",
      "2.6655937666822487\n",
      "2.729060284936588\n",
      "2.792526803190927\n",
      "2.8559933214452666\n",
      "2.9194598396996057\n",
      "2.982926357953945\n",
      "3.0463928762082846\n",
      "3.1098593944626236\n",
      "3.173325912716963\n",
      "3.236792430971302\n",
      "3.3002589492256416\n",
      "3.3637254674799806\n",
      "3.42719198573432\n",
      "3.490658503988659\n",
      "3.5541250222429985\n",
      "3.6175915404973376\n",
      "3.681058058751677\n",
      "3.744524577006016\n",
      "3.8079910952603555\n",
      "3.8714576135146945\n",
      "3.934924131769034\n",
      "3.998390650023373\n",
      "4.0618571682777125\n",
      "4.1253236865320515\n",
      "4.188790204786391\n",
      "4.25225672304073\n",
      "4.3157232412950695\n",
      "4.3791897595494085\n",
      "4.442656277803748\n",
      "4.506122796058087\n",
      "4.569589314312426\n",
      "4.6330558325667655\n",
      "4.696522350821105\n",
      "4.759988869075444\n",
      "4.823455387329783\n",
      "4.886921905584122\n",
      "4.950388423838462\n",
      "5.013854942092801\n",
      "5.07732146034714\n",
      "5.14078797860148\n",
      "5.204254496855819\n",
      "5.267721015110158\n",
      "5.331187533364497\n",
      "5.394654051618837\n",
      "5.458120569873176\n",
      "5.521587088127515\n",
      "5.585053606381854\n",
      "5.648520124636194\n",
      "5.711986642890533\n",
      "5.775453161144872\n",
      "5.838919679399211\n",
      "5.902386197653551\n",
      "5.96585271590789\n",
      "6.029319234162229\n",
      "6.092785752416569\n",
      "6.156252270670908\n",
      "6.219718788925247\n",
      "6.283185307179586\n"
     ]
    }
   ],
   "source": [
    "# For instance if we execute the numpy array, we get in the output array format\n",
    "import numpy as np\n",
    "\n",
    " \n",
    "array = np.linspace(0, 2 * np.pi, 100)\n",
    "\n",
    " \n",
    "for element in array:\n",
    "    print(element)\n"
   ]
  },
  {
   "cell_type": "code",
   "execution_count": 118,
   "metadata": {
    "tags": []
   },
   "outputs": [
    {
     "name": "stdout",
     "output_type": "stream",
     "text": [
      "Result as a list: [0.0, 0.06346651825433926, 0.12693303650867852, 0.1903995547630178, 0.25386607301735703, 0.3173325912716963, 0.3807991095260356, 0.4442656277803748, 0.5077321460347141, 0.5711986642890533, 0.6346651825433925, 0.6981317007977318, 0.7615982190520711, 0.8250647373064104, 0.8885312555607496, 0.9519977738150889, 1.0154642920694281, 1.0789308103237674, 1.1423973285781066, 1.2058638468324459, 1.269330365086785, 1.3327968833411243, 1.3962634015954636, 1.4597299198498028, 1.5231964381041423, 1.5866629563584815, 1.6501294746128208, 1.71359599286716, 1.7770625111214993, 1.8405290293758385, 1.9039955476301778, 1.967462065884517, 2.0309285841388562, 2.0943951023931957, 2.1578616206475347, 2.221328138901874, 2.284794657156213, 2.3482611754105527, 2.4117276936648917, 2.475194211919231, 2.53866073017357, 2.6021272484279097, 2.6655937666822487, 2.729060284936588, 2.792526803190927, 2.8559933214452666, 2.9194598396996057, 2.982926357953945, 3.0463928762082846, 3.1098593944626236, 3.173325912716963, 3.236792430971302, 3.3002589492256416, 3.3637254674799806, 3.42719198573432, 3.490658503988659, 3.5541250222429985, 3.6175915404973376, 3.681058058751677, 3.744524577006016, 3.8079910952603555, 3.8714576135146945, 3.934924131769034, 3.998390650023373, 4.0618571682777125, 4.1253236865320515, 4.188790204786391, 4.25225672304073, 4.3157232412950695, 4.3791897595494085, 4.442656277803748, 4.506122796058087, 4.569589314312426, 4.6330558325667655, 4.696522350821105, 4.759988869075444, 4.823455387329783, 4.886921905584122, 4.950388423838462, 5.013854942092801, 5.07732146034714, 5.14078797860148, 5.204254496855819, 5.267721015110158, 5.331187533364497, 5.394654051618837, 5.458120569873176, 5.521587088127515, 5.585053606381854, 5.648520124636194, 5.711986642890533, 5.775453161144872, 5.838919679399211, 5.902386197653551, 5.96585271590789, 6.029319234162229, 6.092785752416569, 6.156252270670908, 6.219718788925247, 6.283185307179586]\n"
     ]
    }
   ],
   "source": [
    "# if you need the results in the form of list, then you can use iterations through the loop:\n",
    "import numpy as np\n",
    " \n",
    "array = np.linspace(0, 2 * np.pi, 100)\n",
    "\n",
    " \n",
    "result_list = [element for element in array]\n",
    "\n",
    " \n",
    "print(\"Result as a list:\", result_list)\n"
   ]
  },
  {
   "cell_type": "markdown",
   "metadata": {},
   "source": [
    "#### 2 dimensional Numpy arrays\n",
    "\n",
    "Let's create the list **a** which consist of three nested lists, all of which are of the same size."
   ]
  },
  {
   "cell_type": "code",
   "execution_count": 119,
   "metadata": {
    "tags": []
   },
   "outputs": [
    {
     "name": "stdout",
     "output_type": "stream",
     "text": [
      "List a: [[1, 2, 3], [4, 5, 6], [7, 8, 9]]\n"
     ]
    }
   ],
   "source": [
    "# Create a list\n",
    "\n",
    " \n",
    "a = [\n",
    "    [1, 2, 3],\n",
    "    [4, 5, 6],\n",
    "    [7, 8, 9]\n",
    "]\n",
    " \n",
    "print(\"List a:\", a)\n"
   ]
  },
  {
   "cell_type": "markdown",
   "metadata": {},
   "source": [
    "After we can cast to numpy array:"
   ]
  },
  {
   "cell_type": "code",
   "execution_count": 120,
   "metadata": {
    "tags": []
   },
   "outputs": [
    {
     "name": "stdout",
     "output_type": "stream",
     "text": [
      "NumPy array from list a:\n",
      "[[1 2 3]\n",
      " [4 5 6]\n",
      " [7 8 9]]\n"
     ]
    }
   ],
   "source": [
    "import numpy as np\n",
    "\n",
    " \n",
    "a = [\n",
    "    [1, 2, 3],\n",
    "    [4, 5, 6],\n",
    "    [7, 8, 9]\n",
    "]\n",
    "\n",
    " \n",
    "numpy_array = np.array(a)\n",
    "\n",
    " \n",
    "print(\"NumPy array from list a:\")\n",
    "print(numpy_array)\n"
   ]
  },
  {
   "cell_type": "code",
   "execution_count": 121,
   "metadata": {
    "tags": []
   },
   "outputs": [
    {
     "name": "stdout",
     "output_type": "stream",
     "text": [
      "Dimensions of the NumPy array:\n",
      "(3, 3)\n"
     ]
    }
   ],
   "source": [
    "# Let's find numpy array dimensions\n",
    "import numpy as np\n",
    "\n",
    " \n",
    "a = [\n",
    "    [1, 2, 3],\n",
    "    [4, 5, 6],\n",
    "    [7, 8, 9]\n",
    "]\n",
    "\n",
    " \n",
    "numpy_array = np.array(a)\n",
    "\n",
    " \n",
    "dimensions = numpy_array.shape\n",
    "\n",
    " \n",
    "print(\"Dimensions of the NumPy array:\")\n",
    "print(dimensions)\n"
   ]
  },
  {
   "attachments": {
    "68b9c688-242b-4de6-bf3b-d702f0e64888.png": {
     "image/png": "[encoded data removed]"
    }
   },
   "cell_type": "markdown",
   "metadata": {},
   "source": [
    "So we created 2 dimensional Numpy array. We can also do some basic operations with 2 d arrays, like addition. The process is the same as matrix addition. Matrix addition  is shown in the figure below:\n",
    "![Matrix-Addition.png](attachment:68b9c688-242b-4de6-bf3b-d702f0e64888.png)\n"
   ]
  },
  {
   "cell_type": "code",
   "execution_count": 122,
   "metadata": {
    "tags": []
   },
   "outputs": [
    {
     "name": "stdout",
     "output_type": "stream",
     "text": [
      "Array 1: [1 2 3]\n",
      "Array 2: [4 5 6]\n",
      "Result of addition: [5 7 9]\n"
     ]
    }
   ],
   "source": [
    "# Let's create two arrays\n",
    "\n",
    "# And add them\n",
    "import numpy as np\n",
    "\n",
    " \n",
    "array1 = np.array([1, 2, 3])\n",
    "array2 = np.array([4, 5, 6])\n",
    "\n",
    " \n",
    "result_array = array1 + array2\n",
    "\n",
    " \n",
    "print(\"Array 1:\", array1)\n",
    "print(\"Array 2:\", array2)\n",
    "print(\"Result of addition:\", result_array)\n"
   ]
  },
  {
   "cell_type": "code",
   "execution_count": 123,
   "metadata": {
    "tags": []
   },
   "outputs": [
    {
     "name": "stdout",
     "output_type": "stream",
     "text": [
      "Array 1:\n",
      "[[1 2 3]\n",
      " [4 5 6]]\n",
      "\n",
      "Array 2:\n",
      "[[2 3 4]\n",
      " [5 6 7]]\n",
      "\n",
      "Result of multiplication:\n",
      "[[ 2  6 12]\n",
      " [20 30 42]]\n"
     ]
    }
   ],
   "source": [
    "# We can also multiply 2D array\n",
    "\n",
    "\n",
    "import numpy as np\n",
    "\n",
    "array1 = np.array([[1, 2, 3], [4, 5, 6]])\n",
    "array2 = np.array([[2, 3, 4], [5, 6, 7]])\n",
    " \n",
    "result_array = array1 * array2\n",
    "\n",
    " \n",
    "print(\"Array 1:\")\n",
    "print(array1)\n",
    "\n",
    "print(\"\\nArray 2:\")\n",
    "print(array2)\n",
    "\n",
    "print(\"\\nResult of multiplication:\")\n",
    "print(result_array)\n",
    "\n",
    "\n"
   ]
  },
  {
   "cell_type": "markdown",
   "metadata": {
    "tags": []
   },
   "source": [
    "### Practice Exercise 4: "
   ]
  },
  {
   "cell_type": "markdown",
   "metadata": {},
   "source": [
    "1. Assign the second element in the provided array to the value 35. (5pt.)"
   ]
  },
  {
   "cell_type": "code",
   "execution_count": 124,
   "metadata": {},
   "outputs": [
    {
     "name": "stdout",
     "output_type": "stream",
     "text": [
      "[17 35  7]\n"
     ]
    }
   ],
   "source": [
    "a = np.array([17, 5, 7])\n",
    "\n",
    "\n",
    "import numpy as np\n",
    " \n",
    "a[1] = 35\n",
    " \n",
    "print(a)\n"
   ]
  },
  {
   "cell_type": "markdown",
   "metadata": {},
   "source": [
    "2. Find the dimension, size, and shape of the array **d** (5pt.)"
   ]
  },
  {
   "cell_type": "code",
   "execution_count": 125,
   "metadata": {
    "tags": []
   },
   "outputs": [
    {
     "name": "stdout",
     "output_type": "stream",
     "text": [
      "Dimension of array d: 1\n",
      "Size of array d: 7\n",
      "Shape of array d: (7,)\n"
     ]
    }
   ],
   "source": [
    "d = np.array([16, 20, 60, 42, 54, 63, 71])\n",
    "\n",
    "# Write your code below\n",
    "import numpy as np\n",
    " \n",
    " \n",
    "dimension_d = d.ndim\n",
    "size_d = d.size\n",
    "shape_d = d.shape\n",
    "\n",
    "# Print the results\n",
    "print(\"Dimension of array d:\", dimension_d)\n",
    "print(\"Size of array d:\", size_d)\n",
    "print(\"Shape of array d:\", shape_d)\n"
   ]
  },
  {
   "cell_type": "markdown",
   "metadata": {},
   "source": [
    "3. Find the multiplication of maximum and minimum value in the given numpy array (5pt.)\n"
   ]
  },
  {
   "cell_type": "code",
   "execution_count": 126,
   "metadata": {},
   "outputs": [
    {
     "name": "stdout",
     "output_type": "stream",
     "text": [
      "Minimum value in array c: -17\n",
      "Maximum value in array c: 502\n",
      "Multiplication of min and max values: -8534\n"
     ]
    }
   ],
   "source": [
    "c = np.array([-17, 21, 430, 95, 502])\n",
    "\n",
    " \n",
    "import numpy as np\n",
    "\n",
    " \n",
    "c = np.array([-17, 21, 430, 95, 502])\n",
    "\n",
    " \n",
    "min_value = np.min(c)\n",
    "max_value = np.max(c)\n",
    "\n",
    " \n",
    "multiplication_result = min_value * max_value\n",
    "\n",
    "# Print the results\n",
    "print(\"Minimum value in array c:\", min_value)\n",
    "print(\"Maximum value in array c:\", max_value)\n",
    "print(\"Multiplication of min and max values:\", multiplication_result)\n"
   ]
  },
  {
   "cell_type": "markdown",
   "metadata": {},
   "source": [
    "4. Perform addition, substraction, division and multiplication of numpy array1 and array2: (5pt.)"
   ]
  },
  {
   "cell_type": "code",
   "execution_count": 127,
   "metadata": {},
   "outputs": [
    {
     "name": "stdout",
     "output_type": "stream",
     "text": [
      "Array1: [17 18 17 17 19 15]\n",
      "Array2: [23 25 29 29 22 55]\n",
      "\n",
      "Addition result: [40 43 46 46 41 70]\n",
      "Subtraction result: [ -6  -7 -12 -12  -3 -40]\n",
      "Division result: [0.73913043 0.72       0.5862069  0.5862069  0.86363636 0.27272727]\n",
      "Multiplication result: [391 450 493 493 418 825]\n"
     ]
    }
   ],
   "source": [
    "array1 = np.array([17, 18, 17, 17, 19, 15])\n",
    "array2 = np.array([23, 25, 29, 29, 22, 55])\n",
    "\n",
    "# Write your code below\n",
    "import numpy as np\n",
    " \n",
    "addition_result = array1 + array2\n",
    "subtraction_result = array1 - array2\n",
    "division_result = array1 / array2\n",
    "multiplication_result = array1 * array2\n",
    " \n",
    "print(\"Array1:\", array1)\n",
    "print(\"Array2:\", array2)\n",
    "print(\"\\nAddition result:\", addition_result)\n",
    "print(\"Subtraction result:\", subtraction_result)\n",
    "print(\"Division result:\", division_result)\n",
    "print(\"Multiplication result:\", multiplication_result)\n",
    "\n"
   ]
  },
  {
   "cell_type": "markdown",
   "metadata": {},
   "source": [
    "5. Add Constant 5 to the given numpy array: (5 pt.)"
   ]
  },
  {
   "cell_type": "code",
   "execution_count": 128,
   "metadata": {},
   "outputs": [
    {
     "name": "stdout",
     "output_type": "stream",
     "text": [
      "Original array: [ 7  8  2 -6]\n",
      "Result after adding 5: [12 13  7 -1]\n"
     ]
    }
   ],
   "source": [
    "array = np.array([7, 8, 2, -6]) \n",
    "\n",
    "# Write your code below\n",
    "import numpy as np\n",
    "\n",
    "\n",
    "# Add a constant (5) to each element\n",
    "result_array = array + 5\n",
    "\n",
    "# Print the results\n",
    "print(\"Original array:\", array)\n",
    "print(\"Result after adding 5:\", result_array)\n"
   ]
  },
  {
   "cell_type": "markdown",
   "metadata": {
    "jp-MarkdownHeadingCollapsed": true,
    "tags": []
   },
   "source": [
    "6. Make a numpy array within [-1, 1] with 100 elements (5 pt.)"
   ]
  },
  {
   "cell_type": "code",
   "execution_count": 129,
   "metadata": {
    "tags": []
   },
   "outputs": [
    {
     "name": "stdout",
     "output_type": "stream",
     "text": [
      "Generated NumPy array: [-1.         -0.97979798 -0.95959596 -0.93939394 -0.91919192 -0.8989899\n",
      " -0.87878788 -0.85858586 -0.83838384 -0.81818182 -0.7979798  -0.77777778\n",
      " -0.75757576 -0.73737374 -0.71717172 -0.6969697  -0.67676768 -0.65656566\n",
      " -0.63636364 -0.61616162 -0.5959596  -0.57575758 -0.55555556 -0.53535354\n",
      " -0.51515152 -0.49494949 -0.47474747 -0.45454545 -0.43434343 -0.41414141\n",
      " -0.39393939 -0.37373737 -0.35353535 -0.33333333 -0.31313131 -0.29292929\n",
      " -0.27272727 -0.25252525 -0.23232323 -0.21212121 -0.19191919 -0.17171717\n",
      " -0.15151515 -0.13131313 -0.11111111 -0.09090909 -0.07070707 -0.05050505\n",
      " -0.03030303 -0.01010101  0.01010101  0.03030303  0.05050505  0.07070707\n",
      "  0.09090909  0.11111111  0.13131313  0.15151515  0.17171717  0.19191919\n",
      "  0.21212121  0.23232323  0.25252525  0.27272727  0.29292929  0.31313131\n",
      "  0.33333333  0.35353535  0.37373737  0.39393939  0.41414141  0.43434343\n",
      "  0.45454545  0.47474747  0.49494949  0.51515152  0.53535354  0.55555556\n",
      "  0.57575758  0.5959596   0.61616162  0.63636364  0.65656566  0.67676768\n",
      "  0.6969697   0.71717172  0.73737374  0.75757576  0.77777778  0.7979798\n",
      "  0.81818182  0.83838384  0.85858586  0.87878788  0.8989899   0.91919192\n",
      "  0.93939394  0.95959596  0.97979798  1.        ]\n"
     ]
    }
   ],
   "source": [
    "# Write your code below\n",
    "import numpy as np\n",
    "\n",
    "# Create a NumPy array within [-1, 1] with 100 elements\n",
    "array = np.linspace(-1, 1, 100)\n",
    "\n",
    "# Print the result\n",
    "print(\"Generated NumPy array:\", array)\n"
   ]
  },
  {
   "cell_type": "markdown",
   "metadata": {},
   "source": [
    "7. Convert the list **[7, 8, 6, 1, 5]** and **[3, 2, 1, 9, 0]** to numpy arrays and name arr1 and arr2. Find the even and odd numbers from these arrays (10 pt.)"
   ]
  },
  {
   "cell_type": "code",
   "execution_count": 131,
   "metadata": {
    "tags": []
   },
   "outputs": [
    {
     "name": "stdout",
     "output_type": "stream",
     "text": [
      "Array arr1: [7 8 6 1 5]\n",
      "Even numbers in arr1: [8 6]\n",
      "Odd numbers in arr1: [7 1 5]\n",
      "\n",
      "Array arr2: [3 2 1 9 0]\n",
      "Even numbers in arr2: [2 0]\n",
      "Odd numbers in arr2: [3 1 9]\n"
     ]
    }
   ],
   "source": [
    "# Write your code below\n",
    "import numpy as np\n",
    "\n",
    "# Given lists\n",
    "list1 = [7, 8, 6, 1, 5]\n",
    "list2 = [3, 2, 1, 9, 0]\n",
    "\n",
    "# Convert lists to NumPy arrays\n",
    "arr1 = np.array(list1)\n",
    "arr2 = np.array(list2)\n",
    "\n",
    "# Find even and odd numbers\n",
    "even_arr1 = arr1[arr1 % 2 == 0]\n",
    "odd_arr1 = arr1[arr1 % 2 != 0]\n",
    "\n",
    "even_arr2 = arr2[arr2 % 2 == 0]\n",
    "odd_arr2 = arr2[arr2 % 2 != 0]\n",
    "\n",
    "# Print the results\n",
    "print(\"Array arr1:\", arr1)\n",
    "print(\"Even numbers in arr1:\", even_arr1)\n",
    "print(\"Odd numbers in arr1:\", odd_arr1)\n",
    "\n",
    "print(\"\\nArray arr2:\", arr2)\n",
    "print(\"Even numbers in arr2:\", even_arr2)\n",
    "print(\"Odd numbers in arr2:\", odd_arr2)"
   ]
  },
  {
   "cell_type": "markdown",
   "metadata": {},
   "source": [
    "8. After converting the list **[-5, 7]** and **[1, 1]** to numpy arrays, find their dot product (5 pt.)"
   ]
  },
  {
   "cell_type": "code",
   "execution_count": 132,
   "metadata": {
    "tags": []
   },
   "outputs": [
    {
     "name": "stdout",
     "output_type": "stream",
     "text": [
      "Array arr1: [-5  7]\n",
      "Array arr2: [1 1]\n",
      "Dot product: 2\n"
     ]
    }
   ],
   "source": [
    "# Write your code below\n",
    "import numpy as np\n",
    "\n",
    "# Given lists\n",
    "list1 = [-5, 7]\n",
    "list2 = [1, 1]\n",
    "\n",
    "# Convert lists to NumPy arrays\n",
    "arr1 = np.array(list1)\n",
    "arr2 = np.array(list2)\n",
    "\n",
    "# Find the dot product\n",
    "dot_product = np.dot(arr1, arr2)\n",
    "# Alternatively, you can use the @ operator\n",
    "# dot_product = arr1 @ arr2\n",
    "\n",
    "# Print the result\n",
    "print(\"Array arr1:\", arr1)\n",
    "print(\"Array arr2:\", arr2)\n",
    "print(\"Dot product:\", dot_product)\n"
   ]
  },
  {
   "cell_type": "markdown",
   "metadata": {},
   "source": [
    "9. Convert the list **A** to Numpy Array and find the dimension and size of the created array (10 pt.)\n"
   ]
  },
  {
   "cell_type": "code",
   "execution_count": 133,
   "metadata": {},
   "outputs": [
    {
     "name": "stdout",
     "output_type": "stream",
     "text": [
      "Array A:\n",
      "[[0 2 3 0]\n",
      " [3 5 2 4]\n",
      " [1 9 4 4]]\n",
      "\n",
      "Dimension of array A: 2\n",
      "Size of array A: 12\n"
     ]
    }
   ],
   "source": [
    "# Write your code below and press Shift+Enter to execute\n",
    "\n",
    "import numpy as np\n",
    "\n",
    "# Given list A\n",
    "A = [[0, 2, 3, 0], [3, 5, 2, 4], [1, 9, 4, 4]]\n",
    "\n",
    "# Convert list A to a NumPy array\n",
    "array_A = np.array(A)\n",
    "\n",
    "# Find the dimension and size of the array\n",
    "dimension_A = array_A.ndim\n",
    "size_A = array_A.size\n",
    "\n",
    "# Print the results\n",
    "print(\"Array A:\")\n",
    "print(array_A)\n",
    "print(\"\\nDimension of array A:\", dimension_A)\n",
    "print(\"Size of array A:\", size_A)\n"
   ]
  },
  {
   "cell_type": "markdown",
   "metadata": {},
   "source": [
    "#### After completion, rename your current Jupyter Notebook in the following format: CS-21XX_YourName_YourSurname, save it and download. You can send the notebook to A.Zhuldassov@astanait.edu.kz through the teams or email. "
   ]
  },
  {
   "cell_type": "markdown",
   "metadata": {},
   "source": [
    "## Prepared by\n",
    "Course instructor Abat Zhuldassov"
   ]
  }
 ],
 "metadata": {
  "kernelspec": {
   "display_name": "Python 3 (ipykernel)",
   "language": "python",
   "name": "python3"
  },
  "language_info": {
   "codemirror_mode": {
    "name": "ipython",
    "version": 3
   },
   "file_extension": ".py",
   "mimetype": "text/x-python",
   "name": "python",
   "nbconvert_exporter": "python",
   "pygments_lexer": "ipython3",
   "version": "3.11.1"
  }
 },
 "nbformat": 4,
 "nbformat_minor": 4
}
