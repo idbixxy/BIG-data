{
 "cells": [
  {
   "cell_type": "markdown",
   "metadata": {},
   "source": [
    " Big Data in Law Enforcement"
   ]
  },
  {
   "cell_type": "markdown",
   "metadata": {},
   "source": [
    "Introduction\n",
    "Большие данные — это разнообразные данные, поступающие с более высокой скоростью, объем которых постоянно растет."
   ]
  },
  {
   "cell_type": "markdown",
   "metadata": {},
   "source": [
    "Некоторые из популярных языков, используемых специалистами по обработке данных, следующие:\n",
    "```python\n",
    "1.Python\n",
    "2.R\n",
    "3.SQL\n",
    "```"
   ]
  },
  {
   "cell_type": "markdown",
   "metadata": {},
   "source": [
    "**Цели**\n",
    "\n",
    "- Ознакомление с популярными языками для науки о данных.\n",
    "- Изучение распространенных библиотек для анализа данных и машинного обучения.\n",
    "- Понимание основ арифметических выражений и их вычислений в Python.\n",
    "- Работа с инструментами анализа данных, такими как Jupyter Notebook и RStudio.\n",
    "- Разрешение проблемы \"Failed to start the Kernel. EPERM: operation not permitted\".\n",
    "\n"
   ]
  },
  {
   "cell_type": "markdown",
   "metadata": {},
   "source": [
    "Some of the commonly used libraries used by Data Scientist include:\n",
    "NumPy\n",
    "TensorFlow\n",
    "PyTorch"
   ]
  },
  {
   "cell_type": "markdown",
   "metadata": {},
   "source": [
    "| Data Science Tools |\n",
    "|---------------------|\n",
    "| Jupyter Notebook    |\n",
    "| RStudio             |\n",
    "| Apache Zeppelin     |\n"
   ]
  },
  {
   "cell_type": "markdown",
   "metadata": {},
   "source": [
    "Below are a few examples of evaluating arithmetic expressions in Python.\n",
    "```python\n",
    "4+6\n",
    "7+10\n",
    "8-5\n",
    "```"
   ]
  },
  {
   "cell_type": "code",
   "execution_count": 1,
   "metadata": {},
   "outputs": [
    {
     "name": "stdout",
     "output_type": "stream",
     "text": [
      "33\n"
     ]
    }
   ],
   "source": [
    "# Это простое арифметическое выражение\n",
    "result = (4 * 6) + 9\n",
    "print(result)\n"
   ]
  },
  {
   "cell_type": "code",
   "execution_count": 2,
   "metadata": {},
   "outputs": [
    {
     "name": "stdout",
     "output_type": "stream",
     "text": [
      "5.0\n"
     ]
    }
   ],
   "source": [
    "# Это преобразует 300 минут в часы путем деления на 60\n",
    "minutes = 300\n",
    "hours = minutes / 60\n",
    "print(hours)\n"
   ]
  },
  {
   "cell_type": "markdown",
   "metadata": {},
   "source": [
    "## Автор\n",
    "\n",
    "Dilya Ibragimova\n"
   ]
  }
 ],
 "metadata": {
  "kernelspec": {
   "display_name": "Python 3",
   "language": "python",
   "name": "python3"
  },
  "language_info": {
   "codemirror_mode": {
    "name": "ipython",
    "version": 3
   },
   "file_extension": ".py",
   "mimetype": "text/x-python",
   "name": "python",
   "nbconvert_exporter": "python",
   "pygments_lexer": "ipython3",
   "version": "3.11.1"
  }
 },
 "nbformat": 4,
 "nbformat_minor": 2
}
